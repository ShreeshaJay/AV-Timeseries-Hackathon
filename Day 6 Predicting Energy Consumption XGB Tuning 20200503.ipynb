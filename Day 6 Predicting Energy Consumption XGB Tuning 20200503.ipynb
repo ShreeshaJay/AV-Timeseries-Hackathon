{
 "cells": [
  {
   "cell_type": "markdown",
   "metadata": {},
   "source": [
    "<h1><center><font size=\"6\">Predicting Energy Consumption </font></center></h1>\n",
    "\n",
    "<h2><center><font size=\"4\">Dataset used:Kaggle </font></center></h2>\n",
    "\n",
    "<h3><center><font size=\"4\"> https://datahack.analyticsvidhya.com/contest/janatahack-time-series-forecasting/True/</font></center></h2>"
   ]
  },
  {
   "cell_type": "code",
   "execution_count": 39,
   "metadata": {},
   "outputs": [],
   "source": [
    "# Repeat Day 5 but \n",
    "# take out the day of the month variable. It works babe!\n",
    "\n",
    "# segment the hours by morning, noon, evening and night. Slight improvement\n",
    "# segment dayofweek into weekdays and weekends. Another improvement\n",
    "# Note that binning the temperature or season gave no improvement"
   ]
  },
  {
   "cell_type": "markdown",
   "metadata": {},
   "source": [
    "<a id=\"top\"></a> <br>\n",
    "## Table of  Contents\n",
    "1. [Introduction](#1)\n",
    "\n",
    "1. [Initialization](#2)\n",
    "    1. [Load packages](#21)\n",
    "    1. [Define Metadata](#22)\n",
    "    \n",
    "1. [Load Data & Sort](#3)\n",
    "\n",
    "1. [Data Cleansing](#4)\n",
    "    1. [Data Type Conversion](#41)\n",
    "        1. [Encoding Categories](#411)\n",
    "        1. [Converting to Datetime](#412)\n",
    "        \n",
    "1. [Feature Engineering](#5)\n",
    "\n",
    "1. [Modelling Workflow](#6)\n",
    "    1. [Data Prep](#61)\n",
    "        1. [Feature Target Split](#613)\n",
    "        1. [Train-Test Split](#614)\n",
    "    1. [Predictive Modelling](#63)\n",
    "        1. [ML Model Fitting](#631)\n",
    "        1. [Model Performance Metrics Report](#632)\n",
    "    \n",
    "1. [References](#7)"
   ]
  },
  {
   "cell_type": "markdown",
   "metadata": {},
   "source": [
    "# <a id='1'>Introduction</a>  \n",
    "\n",
    "Company of Electrolysia supplies electricity to the city. It is looking to optimise its electricity production based on the historical electricity consumption of the people of Electrovania. \n",
    " \n",
    "The company has hired you as a Data Scientist to investigate the past consumption and the weather information to come up with a model that catches the trend as accurately as possible. You have to bear in mind that there are many factors that affect electricity consumption and not all can be measured. Electrolysia has provided you this data on hourly data spanning five years. \n",
    " \n",
    "For this competition, the training set is comprised of the first 23 days of each month and the test set is the 24th to the end of the month, where the public leaderboard is based on the first two days of test, whereas the private leaderboard considers the rest of the days. Your task is to predict the electricity consumption on hourly basis."
   ]
  },
  {
   "cell_type": "markdown",
   "metadata": {},
   "source": [
    "## <a id='2'>Initialization</a>  \n"
   ]
  },
  {
   "cell_type": "markdown",
   "metadata": {},
   "source": [
    "### <a id='21'>Load Packages</a>  "
   ]
  },
  {
   "cell_type": "markdown",
   "metadata": {},
   "source": [
    "Load the minimum number of packages to get started and add more as we go along"
   ]
  },
  {
   "cell_type": "code",
   "execution_count": 40,
   "metadata": {},
   "outputs": [],
   "source": [
    "import pandas as pd \n",
    "import numpy as np\n",
    "\n",
    "import matplotlib.pyplot as plt\n",
    "%matplotlib inline\n",
    "\n",
    "import seaborn as sns\n",
    "\n",
    "import warnings\n",
    "warnings.filterwarnings('ignore')\n",
    "# This is to suppress any deprecation warnings \n",
    "\n",
    "import os\n",
    "\n",
    "import sys\n",
    "# sys.path.append(\"/home/paperspace/Kaggle Grandmaster/Udemy Superstar/Classification\") # Adds higher directory to python modules path.\n"
   ]
  },
  {
   "cell_type": "markdown",
   "metadata": {},
   "source": [
    "### <a id='22'>Define Metadata</a>  "
   ]
  },
  {
   "cell_type": "code",
   "execution_count": 41,
   "metadata": {},
   "outputs": [],
   "source": [
    "# Define the name of the target class column here instead of manually typing it out everywhere\n",
    "target_class_name = 'electricity_consumption'\n",
    "\n",
    "input_file_name = 'train_6BJx641.csv'\n",
    "sample_submission_file_name = 'sample_submission_bYgKb77.csv'\n",
    "test_file_name = 'test_pavJagI.csv'\n",
    "\n",
    "intermediate_data_path = '../intermediate data/'\n",
    "\n",
    "output_df_file_name = 'day6_cleaned_df_output_' \n",
    "\n",
    "# Enter the date in which this notebook is run\n",
    "export_date = '2020503'"
   ]
  },
  {
   "cell_type": "code",
   "execution_count": 42,
   "metadata": {},
   "outputs": [
    {
     "name": "stdout",
     "output_type": "stream",
     "text": [
      "['sample_submission_bYgKb77.csv', 'test_pavJagI.csv', 'train_6BJx641.csv']\n"
     ]
    }
   ],
   "source": [
    "# Check ou tthe names of the files in the input folder that we need to load as dataframe\n",
    "import os\n",
    "print(os.listdir('input'))\n",
    "# This will list all the files in this folder"
   ]
  },
  {
   "cell_type": "markdown",
   "metadata": {},
   "source": [
    "## <a id='3'>Load Data & Sort</a>  "
   ]
  },
  {
   "cell_type": "code",
   "execution_count": 43,
   "metadata": {
    "scrolled": true
   },
   "outputs": [
    {
     "data": {
      "text/html": [
       "<div>\n",
       "<style scoped>\n",
       "    .dataframe tbody tr th:only-of-type {\n",
       "        vertical-align: middle;\n",
       "    }\n",
       "\n",
       "    .dataframe tbody tr th {\n",
       "        vertical-align: top;\n",
       "    }\n",
       "\n",
       "    .dataframe thead th {\n",
       "        text-align: right;\n",
       "    }\n",
       "</style>\n",
       "<table border=\"1\" class=\"dataframe\">\n",
       "  <thead>\n",
       "    <tr style=\"text-align: right;\">\n",
       "      <th></th>\n",
       "      <th>datetime</th>\n",
       "      <th>temperature</th>\n",
       "      <th>var1</th>\n",
       "      <th>pressure</th>\n",
       "      <th>windspeed</th>\n",
       "      <th>var2</th>\n",
       "      <th>electricity_consumption</th>\n",
       "    </tr>\n",
       "    <tr>\n",
       "      <th>ID</th>\n",
       "      <th></th>\n",
       "      <th></th>\n",
       "      <th></th>\n",
       "      <th></th>\n",
       "      <th></th>\n",
       "      <th></th>\n",
       "      <th></th>\n",
       "    </tr>\n",
       "  </thead>\n",
       "  <tbody>\n",
       "    <tr>\n",
       "      <th>4922</th>\n",
       "      <td>2014-01-22 02:00:00</td>\n",
       "      <td>13.6</td>\n",
       "      <td>13.6</td>\n",
       "      <td>967.0</td>\n",
       "      <td>3.295</td>\n",
       "      <td>C</td>\n",
       "      <td>216.0</td>\n",
       "    </tr>\n",
       "    <tr>\n",
       "      <th>47</th>\n",
       "      <td>2013-07-02 23:00:00</td>\n",
       "      <td>-8.6</td>\n",
       "      <td>-15.0</td>\n",
       "      <td>995.0</td>\n",
       "      <td>4.545</td>\n",
       "      <td>A</td>\n",
       "      <td>258.0</td>\n",
       "    </tr>\n",
       "    <tr>\n",
       "      <th>16595</th>\n",
       "      <td>2015-05-23 11:00:00</td>\n",
       "      <td>1.4</td>\n",
       "      <td>-2.9</td>\n",
       "      <td>989.0</td>\n",
       "      <td>8.775</td>\n",
       "      <td>A</td>\n",
       "      <td>294.0</td>\n",
       "    </tr>\n",
       "    <tr>\n",
       "      <th>26425</th>\n",
       "      <td>2016-07-06 01:00:00</td>\n",
       "      <td>-4.3</td>\n",
       "      <td>-7.1</td>\n",
       "      <td>1000.0</td>\n",
       "      <td>3.030</td>\n",
       "      <td>A</td>\n",
       "      <td>339.0</td>\n",
       "    </tr>\n",
       "    <tr>\n",
       "      <th>20699</th>\n",
       "      <td>2015-11-10 11:00:00</td>\n",
       "      <td>15.7</td>\n",
       "      <td>-9.3</td>\n",
       "      <td>968.0</td>\n",
       "      <td>3.290</td>\n",
       "      <td>A</td>\n",
       "      <td>210.0</td>\n",
       "    </tr>\n",
       "  </tbody>\n",
       "</table>\n",
       "</div>"
      ],
      "text/plain": [
       "                  datetime  temperature  var1  pressure  windspeed var2  \\\n",
       "ID                                                                        \n",
       "4922   2014-01-22 02:00:00         13.6  13.6     967.0      3.295    C   \n",
       "47     2013-07-02 23:00:00         -8.6 -15.0     995.0      4.545    A   \n",
       "16595  2015-05-23 11:00:00          1.4  -2.9     989.0      8.775    A   \n",
       "26425  2016-07-06 01:00:00         -4.3  -7.1    1000.0      3.030    A   \n",
       "20699  2015-11-10 11:00:00         15.7  -9.3     968.0      3.290    A   \n",
       "\n",
       "       electricity_consumption  \n",
       "ID                              \n",
       "4922                     216.0  \n",
       "47                       258.0  \n",
       "16595                    294.0  \n",
       "26425                    339.0  \n",
       "20699                    210.0  "
      ]
     },
     "execution_count": 43,
     "metadata": {},
     "output_type": "execute_result"
    }
   ],
   "source": [
    "df = pd.read_csv('input/' + input_file_name, index_col='ID')\n",
    "df.sample(5)"
   ]
  },
  {
   "cell_type": "markdown",
   "metadata": {},
   "source": [
    "#### Date time sorting"
   ]
  },
  {
   "cell_type": "code",
   "execution_count": 44,
   "metadata": {},
   "outputs": [
    {
     "data": {
      "text/html": [
       "<div>\n",
       "<style scoped>\n",
       "    .dataframe tbody tr th:only-of-type {\n",
       "        vertical-align: middle;\n",
       "    }\n",
       "\n",
       "    .dataframe tbody tr th {\n",
       "        vertical-align: top;\n",
       "    }\n",
       "\n",
       "    .dataframe thead th {\n",
       "        text-align: right;\n",
       "    }\n",
       "</style>\n",
       "<table border=\"1\" class=\"dataframe\">\n",
       "  <thead>\n",
       "    <tr style=\"text-align: right;\">\n",
       "      <th></th>\n",
       "      <th>datetime</th>\n",
       "      <th>temperature</th>\n",
       "      <th>var1</th>\n",
       "      <th>pressure</th>\n",
       "      <th>windspeed</th>\n",
       "      <th>var2</th>\n",
       "      <th>electricity_consumption</th>\n",
       "    </tr>\n",
       "    <tr>\n",
       "      <th>ID</th>\n",
       "      <th></th>\n",
       "      <th></th>\n",
       "      <th></th>\n",
       "      <th></th>\n",
       "      <th></th>\n",
       "      <th></th>\n",
       "      <th></th>\n",
       "    </tr>\n",
       "  </thead>\n",
       "  <tbody>\n",
       "    <tr>\n",
       "      <th>0</th>\n",
       "      <td>2013-07-01 00:00:00</td>\n",
       "      <td>-11.4</td>\n",
       "      <td>-17.1</td>\n",
       "      <td>1003.0</td>\n",
       "      <td>571.910</td>\n",
       "      <td>A</td>\n",
       "      <td>216.0</td>\n",
       "    </tr>\n",
       "    <tr>\n",
       "      <th>1</th>\n",
       "      <td>2013-07-01 01:00:00</td>\n",
       "      <td>-12.1</td>\n",
       "      <td>-19.3</td>\n",
       "      <td>996.0</td>\n",
       "      <td>575.040</td>\n",
       "      <td>A</td>\n",
       "      <td>210.0</td>\n",
       "    </tr>\n",
       "    <tr>\n",
       "      <th>2</th>\n",
       "      <td>2013-07-01 02:00:00</td>\n",
       "      <td>-12.9</td>\n",
       "      <td>-20.0</td>\n",
       "      <td>1000.0</td>\n",
       "      <td>578.435</td>\n",
       "      <td>A</td>\n",
       "      <td>225.0</td>\n",
       "    </tr>\n",
       "    <tr>\n",
       "      <th>3</th>\n",
       "      <td>2013-07-01 03:00:00</td>\n",
       "      <td>-11.4</td>\n",
       "      <td>-17.1</td>\n",
       "      <td>995.0</td>\n",
       "      <td>582.580</td>\n",
       "      <td>A</td>\n",
       "      <td>216.0</td>\n",
       "    </tr>\n",
       "    <tr>\n",
       "      <th>4</th>\n",
       "      <td>2013-07-01 04:00:00</td>\n",
       "      <td>-11.4</td>\n",
       "      <td>-19.3</td>\n",
       "      <td>1005.0</td>\n",
       "      <td>586.600</td>\n",
       "      <td>A</td>\n",
       "      <td>222.0</td>\n",
       "    </tr>\n",
       "  </tbody>\n",
       "</table>\n",
       "</div>"
      ],
      "text/plain": [
       "               datetime  temperature  var1  pressure  windspeed var2  \\\n",
       "ID                                                                     \n",
       "0   2013-07-01 00:00:00        -11.4 -17.1    1003.0    571.910    A   \n",
       "1   2013-07-01 01:00:00        -12.1 -19.3     996.0    575.040    A   \n",
       "2   2013-07-01 02:00:00        -12.9 -20.0    1000.0    578.435    A   \n",
       "3   2013-07-01 03:00:00        -11.4 -17.1     995.0    582.580    A   \n",
       "4   2013-07-01 04:00:00        -11.4 -19.3    1005.0    586.600    A   \n",
       "\n",
       "    electricity_consumption  \n",
       "ID                           \n",
       "0                     216.0  \n",
       "1                     210.0  \n",
       "2                     225.0  \n",
       "3                     216.0  \n",
       "4                     222.0  "
      ]
     },
     "execution_count": 44,
     "metadata": {},
     "output_type": "execute_result"
    }
   ],
   "source": [
    "# Get the time series sorted here\n",
    "df['datetime'] = df.sort_values('datetime')\n",
    "df.head()"
   ]
  },
  {
   "cell_type": "markdown",
   "metadata": {},
   "source": [
    "## <a id=4 > Data Cleansing"
   ]
  },
  {
   "cell_type": "markdown",
   "metadata": {},
   "source": [
    "### <a id='41'>Data Type Conversion</a> "
   ]
  },
  {
   "cell_type": "markdown",
   "metadata": {},
   "source": [
    "#### <a id='411'>Encoding Categories</a> "
   ]
  },
  {
   "cell_type": "code",
   "execution_count": 45,
   "metadata": {},
   "outputs": [],
   "source": [
    "from sklearn.preprocessing import LabelEncoder\n",
    "label_encoder = LabelEncoder()\n",
    "\n",
    "df['var2'] = label_encoder.fit_transform(df['var2'])"
   ]
  },
  {
   "cell_type": "markdown",
   "metadata": {},
   "source": [
    "#### <a id='411'>Datetime conversion "
   ]
  },
  {
   "cell_type": "code",
   "execution_count": 46,
   "metadata": {},
   "outputs": [],
   "source": [
    "# Convert the column into datetime \n",
    "df['datetime'] = pd.to_datetime(df['datetime'])"
   ]
  },
  {
   "cell_type": "code",
   "execution_count": 47,
   "metadata": {},
   "outputs": [
    {
     "data": {
      "text/html": [
       "<div>\n",
       "<style scoped>\n",
       "    .dataframe tbody tr th:only-of-type {\n",
       "        vertical-align: middle;\n",
       "    }\n",
       "\n",
       "    .dataframe tbody tr th {\n",
       "        vertical-align: top;\n",
       "    }\n",
       "\n",
       "    .dataframe thead th {\n",
       "        text-align: right;\n",
       "    }\n",
       "</style>\n",
       "<table border=\"1\" class=\"dataframe\">\n",
       "  <thead>\n",
       "    <tr style=\"text-align: right;\">\n",
       "      <th></th>\n",
       "      <th>datetime</th>\n",
       "      <th>temperature</th>\n",
       "      <th>var1</th>\n",
       "      <th>pressure</th>\n",
       "      <th>windspeed</th>\n",
       "      <th>var2</th>\n",
       "      <th>electricity_consumption</th>\n",
       "    </tr>\n",
       "    <tr>\n",
       "      <th>ID</th>\n",
       "      <th></th>\n",
       "      <th></th>\n",
       "      <th></th>\n",
       "      <th></th>\n",
       "      <th></th>\n",
       "      <th></th>\n",
       "      <th></th>\n",
       "    </tr>\n",
       "  </thead>\n",
       "  <tbody>\n",
       "    <tr>\n",
       "      <th>0</th>\n",
       "      <td>2013-07-01 00:00:00</td>\n",
       "      <td>-11.4</td>\n",
       "      <td>-17.1</td>\n",
       "      <td>1003.0</td>\n",
       "      <td>571.910</td>\n",
       "      <td>0</td>\n",
       "      <td>216.0</td>\n",
       "    </tr>\n",
       "    <tr>\n",
       "      <th>1</th>\n",
       "      <td>2013-07-01 01:00:00</td>\n",
       "      <td>-12.1</td>\n",
       "      <td>-19.3</td>\n",
       "      <td>996.0</td>\n",
       "      <td>575.040</td>\n",
       "      <td>0</td>\n",
       "      <td>210.0</td>\n",
       "    </tr>\n",
       "    <tr>\n",
       "      <th>2</th>\n",
       "      <td>2013-07-01 02:00:00</td>\n",
       "      <td>-12.9</td>\n",
       "      <td>-20.0</td>\n",
       "      <td>1000.0</td>\n",
       "      <td>578.435</td>\n",
       "      <td>0</td>\n",
       "      <td>225.0</td>\n",
       "    </tr>\n",
       "    <tr>\n",
       "      <th>3</th>\n",
       "      <td>2013-07-01 03:00:00</td>\n",
       "      <td>-11.4</td>\n",
       "      <td>-17.1</td>\n",
       "      <td>995.0</td>\n",
       "      <td>582.580</td>\n",
       "      <td>0</td>\n",
       "      <td>216.0</td>\n",
       "    </tr>\n",
       "    <tr>\n",
       "      <th>4</th>\n",
       "      <td>2013-07-01 04:00:00</td>\n",
       "      <td>-11.4</td>\n",
       "      <td>-19.3</td>\n",
       "      <td>1005.0</td>\n",
       "      <td>586.600</td>\n",
       "      <td>0</td>\n",
       "      <td>222.0</td>\n",
       "    </tr>\n",
       "  </tbody>\n",
       "</table>\n",
       "</div>"
      ],
      "text/plain": [
       "              datetime  temperature  var1  pressure  windspeed  var2  \\\n",
       "ID                                                                     \n",
       "0  2013-07-01 00:00:00        -11.4 -17.1    1003.0    571.910     0   \n",
       "1  2013-07-01 01:00:00        -12.1 -19.3     996.0    575.040     0   \n",
       "2  2013-07-01 02:00:00        -12.9 -20.0    1000.0    578.435     0   \n",
       "3  2013-07-01 03:00:00        -11.4 -17.1     995.0    582.580     0   \n",
       "4  2013-07-01 04:00:00        -11.4 -19.3    1005.0    586.600     0   \n",
       "\n",
       "    electricity_consumption  \n",
       "ID                           \n",
       "0                     216.0  \n",
       "1                     210.0  \n",
       "2                     225.0  \n",
       "3                     216.0  \n",
       "4                     222.0  "
      ]
     },
     "execution_count": 47,
     "metadata": {},
     "output_type": "execute_result"
    }
   ],
   "source": [
    "df.head()"
   ]
  },
  {
   "cell_type": "markdown",
   "metadata": {},
   "source": [
    "#### EDA"
   ]
  },
  {
   "cell_type": "code",
   "execution_count": 48,
   "metadata": {},
   "outputs": [
    {
     "data": {
      "text/plain": [
       "<matplotlib.axes._subplots.AxesSubplot at 0x7f6e842074a8>"
      ]
     },
     "execution_count": 48,
     "metadata": {},
     "output_type": "execute_result"
    },
    {
     "data": {
      "image/png": "[encoded data removed]",
      "text/plain": [
       "<Figure size 432x288 with 1 Axes>"
      ]
     },
     "metadata": {},
     "output_type": "display_data"
    }
   ],
   "source": [
    "# Plot the temperature to see how the variation looks like across season and time of day\n",
    "\n",
    "df['temperature'].plot()\n",
    "# The bands within the day are not more than 10 C\n",
    "# But the range across seasons can be upto 40 C"
   ]
  },
  {
   "cell_type": "code",
   "execution_count": null,
   "metadata": {},
   "outputs": [],
   "source": []
  },
  {
   "cell_type": "markdown",
   "metadata": {},
   "source": [
    "### <a id = 5> Feature Engineering"
   ]
  },
  {
   "cell_type": "markdown",
   "metadata": {},
   "source": [
    "#### <a id = 51> Extracting Time fields"
   ]
  },
  {
   "cell_type": "code",
   "execution_count": null,
   "metadata": {},
   "outputs": [],
   "source": [
    "def time_feature_engineering_function(dataframe, time_column):\n",
    "    \n",
    "    \"\"\"\n",
    "    Args: dataframe and the timeseries column called time_column\n",
    "    Assumption: time_column already has the hour day month year information\n",
    "    Logic: generate 8 possible combinations of the time_column column \n",
    "    Returns: The original dataframe with the new feature engineered columns + names of those columns\n",
    "    \n",
    "    \"\"\"\n",
    "    \n",
    "    # Then use the above column to split up into respective time components \n",
    "    # in which there might be seasonality\n",
    "    dataframe['hour'] = dataframe[time_column].dt.hour\n",
    "    \n",
    "    dataframe['dayofweek'] = dataframe[time_column].dt.dayofweek\n",
    "    dataframe['dayofmonth'] = dataframe[time_column].dt.day\n",
    "    dataframe['dayofyear'] = dataframe[time_column].dt.dayofyear\n",
    "    \n",
    "    dataframe['weekofyear'] = dataframe[time_column].dt.weekofyear\n",
    "    dataframe['quarter'] = dataframe[time_column].dt.quarter\n",
    "    dataframe['month'] = dataframe[time_column].dt.month\n",
    "    dataframe['year'] = dataframe[time_column].dt.year\n",
    "    \n",
    "    new_col_name_list = ['hour','dayofweek','dayofmonth','dayofyear','weekofyear','quarter','month','year']\n",
    "    \n",
    "    return dataframe, new_col_name_list\n"
   ]
  },
  {
   "cell_type": "code",
   "execution_count": 49,
   "metadata": {},
   "outputs": [
    {
     "data": {
      "text/html": [
       "<div>\n",
       "<style scoped>\n",
       "    .dataframe tbody tr th:only-of-type {\n",
       "        vertical-align: middle;\n",
       "    }\n",
       "\n",
       "    .dataframe tbody tr th {\n",
       "        vertical-align: top;\n",
       "    }\n",
       "\n",
       "    .dataframe thead th {\n",
       "        text-align: right;\n",
       "    }\n",
       "</style>\n",
       "<table border=\"1\" class=\"dataframe\">\n",
       "  <thead>\n",
       "    <tr style=\"text-align: right;\">\n",
       "      <th></th>\n",
       "      <th>datetime</th>\n",
       "      <th>temperature</th>\n",
       "      <th>var1</th>\n",
       "      <th>pressure</th>\n",
       "      <th>windspeed</th>\n",
       "      <th>var2</th>\n",
       "      <th>electricity_consumption</th>\n",
       "      <th>hour</th>\n",
       "      <th>dayofweek</th>\n",
       "      <th>dayofmonth</th>\n",
       "      <th>dayofyear</th>\n",
       "      <th>weekofyear</th>\n",
       "      <th>quarter</th>\n",
       "      <th>month</th>\n",
       "      <th>year</th>\n",
       "    </tr>\n",
       "    <tr>\n",
       "      <th>ID</th>\n",
       "      <th></th>\n",
       "      <th></th>\n",
       "      <th></th>\n",
       "      <th></th>\n",
       "      <th></th>\n",
       "      <th></th>\n",
       "      <th></th>\n",
       "      <th></th>\n",
       "      <th></th>\n",
       "      <th></th>\n",
       "      <th></th>\n",
       "      <th></th>\n",
       "      <th></th>\n",
       "      <th></th>\n",
       "      <th></th>\n",
       "    </tr>\n",
       "  </thead>\n",
       "  <tbody>\n",
       "    <tr>\n",
       "      <th>0</th>\n",
       "      <td>2013-07-01 00:00:00</td>\n",
       "      <td>-11.4</td>\n",
       "      <td>-17.1</td>\n",
       "      <td>1003.0</td>\n",
       "      <td>571.910</td>\n",
       "      <td>0</td>\n",
       "      <td>216.0</td>\n",
       "      <td>0</td>\n",
       "      <td>0</td>\n",
       "      <td>1</td>\n",
       "      <td>182</td>\n",
       "      <td>27</td>\n",
       "      <td>3</td>\n",
       "      <td>7</td>\n",
       "      <td>2013</td>\n",
       "    </tr>\n",
       "    <tr>\n",
       "      <th>1</th>\n",
       "      <td>2013-07-01 01:00:00</td>\n",
       "      <td>-12.1</td>\n",
       "      <td>-19.3</td>\n",
       "      <td>996.0</td>\n",
       "      <td>575.040</td>\n",
       "      <td>0</td>\n",
       "      <td>210.0</td>\n",
       "      <td>1</td>\n",
       "      <td>0</td>\n",
       "      <td>1</td>\n",
       "      <td>182</td>\n",
       "      <td>27</td>\n",
       "      <td>3</td>\n",
       "      <td>7</td>\n",
       "      <td>2013</td>\n",
       "    </tr>\n",
       "    <tr>\n",
       "      <th>2</th>\n",
       "      <td>2013-07-01 02:00:00</td>\n",
       "      <td>-12.9</td>\n",
       "      <td>-20.0</td>\n",
       "      <td>1000.0</td>\n",
       "      <td>578.435</td>\n",
       "      <td>0</td>\n",
       "      <td>225.0</td>\n",
       "      <td>2</td>\n",
       "      <td>0</td>\n",
       "      <td>1</td>\n",
       "      <td>182</td>\n",
       "      <td>27</td>\n",
       "      <td>3</td>\n",
       "      <td>7</td>\n",
       "      <td>2013</td>\n",
       "    </tr>\n",
       "    <tr>\n",
       "      <th>3</th>\n",
       "      <td>2013-07-01 03:00:00</td>\n",
       "      <td>-11.4</td>\n",
       "      <td>-17.1</td>\n",
       "      <td>995.0</td>\n",
       "      <td>582.580</td>\n",
       "      <td>0</td>\n",
       "      <td>216.0</td>\n",
       "      <td>3</td>\n",
       "      <td>0</td>\n",
       "      <td>1</td>\n",
       "      <td>182</td>\n",
       "      <td>27</td>\n",
       "      <td>3</td>\n",
       "      <td>7</td>\n",
       "      <td>2013</td>\n",
       "    </tr>\n",
       "    <tr>\n",
       "      <th>4</th>\n",
       "      <td>2013-07-01 04:00:00</td>\n",
       "      <td>-11.4</td>\n",
       "      <td>-19.3</td>\n",
       "      <td>1005.0</td>\n",
       "      <td>586.600</td>\n",
       "      <td>0</td>\n",
       "      <td>222.0</td>\n",
       "      <td>4</td>\n",
       "      <td>0</td>\n",
       "      <td>1</td>\n",
       "      <td>182</td>\n",
       "      <td>27</td>\n",
       "      <td>3</td>\n",
       "      <td>7</td>\n",
       "      <td>2013</td>\n",
       "    </tr>\n",
       "  </tbody>\n",
       "</table>\n",
       "</div>"
      ],
      "text/plain": [
       "              datetime  temperature  var1  pressure  windspeed  var2  \\\n",
       "ID                                                                     \n",
       "0  2013-07-01 00:00:00        -11.4 -17.1    1003.0    571.910     0   \n",
       "1  2013-07-01 01:00:00        -12.1 -19.3     996.0    575.040     0   \n",
       "2  2013-07-01 02:00:00        -12.9 -20.0    1000.0    578.435     0   \n",
       "3  2013-07-01 03:00:00        -11.4 -17.1     995.0    582.580     0   \n",
       "4  2013-07-01 04:00:00        -11.4 -19.3    1005.0    586.600     0   \n",
       "\n",
       "    electricity_consumption  hour  dayofweek  dayofmonth  dayofyear  \\\n",
       "ID                                                                    \n",
       "0                     216.0     0          0           1        182   \n",
       "1                     210.0     1          0           1        182   \n",
       "2                     225.0     2          0           1        182   \n",
       "3                     216.0     3          0           1        182   \n",
       "4                     222.0     4          0           1        182   \n",
       "\n",
       "    weekofyear  quarter  month  year  \n",
       "ID                                    \n",
       "0           27        3      7  2013  \n",
       "1           27        3      7  2013  \n",
       "2           27        3      7  2013  \n",
       "3           27        3      7  2013  \n",
       "4           27        3      7  2013  "
      ]
     },
     "execution_count": 49,
     "metadata": {},
     "output_type": "execute_result"
    }
   ],
   "source": [
    "# Use the datetime column to generate additional categorical features\n",
    "# from helper_functions_comprehensive import time_feature_engineering_function\n",
    "\n",
    "df, _ = time_feature_engineering_function(df, time_column='datetime')\n",
    "df.head()"
   ]
  },
  {
   "cell_type": "code",
   "execution_count": 50,
   "metadata": {},
   "outputs": [],
   "source": [
    "# df['electricity_consumption'].plot()"
   ]
  },
  {
   "cell_type": "code",
   "execution_count": 51,
   "metadata": {},
   "outputs": [],
   "source": [
    "# from helper_functions_comprehensive import numerical_distribution_function\n",
    "# numerical_distribution_function(df[['electricity_consumption']])"
   ]
  },
  {
   "cell_type": "markdown",
   "metadata": {},
   "source": [
    "#### NTFU Get each season's temperature IQR"
   ]
  },
  {
   "cell_type": "code",
   "execution_count": 52,
   "metadata": {},
   "outputs": [],
   "source": [
    "# winter_month_list = [11,12,1,2]\n",
    "# spring_month_list = [3,4]\n",
    "# summer_month_list = [5,6,7,8]\n",
    "# fall_month_list = [9,10]\n",
    "\n",
    "# winter_df = df[df['month'].isin(winter_month_list)].copy()\n",
    "# spring_df = df[df['month'].isin(spring_month_list)].copy()\n",
    "# summer_df = df[df['month'].isin(summer_month_list)].copy()\n",
    "# fall_df = df[df['month'].isin(fall_month_list)].copy()"
   ]
  },
  {
   "cell_type": "code",
   "execution_count": 53,
   "metadata": {},
   "outputs": [],
   "source": [
    "# # Get each dataframe's IQR\n",
    "# winter_df['temperature'].quantile([0.25,0.75]).values"
   ]
  },
  {
   "cell_type": "code",
   "execution_count": 54,
   "metadata": {},
   "outputs": [],
   "source": [
    "# summer_df['temperature'].quantile([0.25,0.75]).values"
   ]
  },
  {
   "cell_type": "code",
   "execution_count": 55,
   "metadata": {},
   "outputs": [],
   "source": [
    "# fall_df['temperature'].quantile([0.25,0.75]).values"
   ]
  },
  {
   "cell_type": "code",
   "execution_count": 56,
   "metadata": {},
   "outputs": [],
   "source": [
    "# spring_df['temperature'].quantile([0.25,0.75]).values"
   ]
  },
  {
   "cell_type": "code",
   "execution_count": null,
   "metadata": {},
   "outputs": [],
   "source": []
  },
  {
   "cell_type": "markdown",
   "metadata": {},
   "source": [
    "#### <a id = 52> Segment hours, day of week and temperature"
   ]
  },
  {
   "cell_type": "code",
   "execution_count": 57,
   "metadata": {
    "scrolled": true
   },
   "outputs": [
    {
     "data": {
      "text/html": [
       "<div>\n",
       "<style scoped>\n",
       "    .dataframe tbody tr th:only-of-type {\n",
       "        vertical-align: middle;\n",
       "    }\n",
       "\n",
       "    .dataframe tbody tr th {\n",
       "        vertical-align: top;\n",
       "    }\n",
       "\n",
       "    .dataframe thead th {\n",
       "        text-align: right;\n",
       "    }\n",
       "</style>\n",
       "<table border=\"1\" class=\"dataframe\">\n",
       "  <thead>\n",
       "    <tr style=\"text-align: right;\">\n",
       "      <th></th>\n",
       "      <th>datetime</th>\n",
       "      <th>temperature</th>\n",
       "      <th>var1</th>\n",
       "      <th>pressure</th>\n",
       "      <th>windspeed</th>\n",
       "      <th>var2</th>\n",
       "      <th>electricity_consumption</th>\n",
       "      <th>hour</th>\n",
       "      <th>dayofweek</th>\n",
       "      <th>dayofmonth</th>\n",
       "      <th>dayofyear</th>\n",
       "      <th>weekofyear</th>\n",
       "      <th>quarter</th>\n",
       "      <th>month</th>\n",
       "      <th>year</th>\n",
       "      <th>binned_hour</th>\n",
       "      <th>binned_week</th>\n",
       "    </tr>\n",
       "    <tr>\n",
       "      <th>ID</th>\n",
       "      <th></th>\n",
       "      <th></th>\n",
       "      <th></th>\n",
       "      <th></th>\n",
       "      <th></th>\n",
       "      <th></th>\n",
       "      <th></th>\n",
       "      <th></th>\n",
       "      <th></th>\n",
       "      <th></th>\n",
       "      <th></th>\n",
       "      <th></th>\n",
       "      <th></th>\n",
       "      <th></th>\n",
       "      <th></th>\n",
       "      <th></th>\n",
       "      <th></th>\n",
       "    </tr>\n",
       "  </thead>\n",
       "  <tbody>\n",
       "    <tr>\n",
       "      <th>0</th>\n",
       "      <td>2013-07-01 00:00:00</td>\n",
       "      <td>-11.4</td>\n",
       "      <td>-17.1</td>\n",
       "      <td>1003.0</td>\n",
       "      <td>571.910</td>\n",
       "      <td>0</td>\n",
       "      <td>216.0</td>\n",
       "      <td>0</td>\n",
       "      <td>0</td>\n",
       "      <td>1</td>\n",
       "      <td>182</td>\n",
       "      <td>27</td>\n",
       "      <td>3</td>\n",
       "      <td>7</td>\n",
       "      <td>2013</td>\n",
       "      <td>0</td>\n",
       "      <td>0</td>\n",
       "    </tr>\n",
       "    <tr>\n",
       "      <th>1</th>\n",
       "      <td>2013-07-01 01:00:00</td>\n",
       "      <td>-12.1</td>\n",
       "      <td>-19.3</td>\n",
       "      <td>996.0</td>\n",
       "      <td>575.040</td>\n",
       "      <td>0</td>\n",
       "      <td>210.0</td>\n",
       "      <td>1</td>\n",
       "      <td>0</td>\n",
       "      <td>1</td>\n",
       "      <td>182</td>\n",
       "      <td>27</td>\n",
       "      <td>3</td>\n",
       "      <td>7</td>\n",
       "      <td>2013</td>\n",
       "      <td>0</td>\n",
       "      <td>0</td>\n",
       "    </tr>\n",
       "    <tr>\n",
       "      <th>2</th>\n",
       "      <td>2013-07-01 02:00:00</td>\n",
       "      <td>-12.9</td>\n",
       "      <td>-20.0</td>\n",
       "      <td>1000.0</td>\n",
       "      <td>578.435</td>\n",
       "      <td>0</td>\n",
       "      <td>225.0</td>\n",
       "      <td>2</td>\n",
       "      <td>0</td>\n",
       "      <td>1</td>\n",
       "      <td>182</td>\n",
       "      <td>27</td>\n",
       "      <td>3</td>\n",
       "      <td>7</td>\n",
       "      <td>2013</td>\n",
       "      <td>0</td>\n",
       "      <td>0</td>\n",
       "    </tr>\n",
       "    <tr>\n",
       "      <th>3</th>\n",
       "      <td>2013-07-01 03:00:00</td>\n",
       "      <td>-11.4</td>\n",
       "      <td>-17.1</td>\n",
       "      <td>995.0</td>\n",
       "      <td>582.580</td>\n",
       "      <td>0</td>\n",
       "      <td>216.0</td>\n",
       "      <td>3</td>\n",
       "      <td>0</td>\n",
       "      <td>1</td>\n",
       "      <td>182</td>\n",
       "      <td>27</td>\n",
       "      <td>3</td>\n",
       "      <td>7</td>\n",
       "      <td>2013</td>\n",
       "      <td>0</td>\n",
       "      <td>0</td>\n",
       "    </tr>\n",
       "    <tr>\n",
       "      <th>4</th>\n",
       "      <td>2013-07-01 04:00:00</td>\n",
       "      <td>-11.4</td>\n",
       "      <td>-19.3</td>\n",
       "      <td>1005.0</td>\n",
       "      <td>586.600</td>\n",
       "      <td>0</td>\n",
       "      <td>222.0</td>\n",
       "      <td>4</td>\n",
       "      <td>0</td>\n",
       "      <td>1</td>\n",
       "      <td>182</td>\n",
       "      <td>27</td>\n",
       "      <td>3</td>\n",
       "      <td>7</td>\n",
       "      <td>2013</td>\n",
       "      <td>0</td>\n",
       "      <td>0</td>\n",
       "    </tr>\n",
       "  </tbody>\n",
       "</table>\n",
       "</div>"
      ],
      "text/plain": [
       "              datetime  temperature  var1  pressure  windspeed  var2  \\\n",
       "ID                                                                     \n",
       "0  2013-07-01 00:00:00        -11.4 -17.1    1003.0    571.910     0   \n",
       "1  2013-07-01 01:00:00        -12.1 -19.3     996.0    575.040     0   \n",
       "2  2013-07-01 02:00:00        -12.9 -20.0    1000.0    578.435     0   \n",
       "3  2013-07-01 03:00:00        -11.4 -17.1     995.0    582.580     0   \n",
       "4  2013-07-01 04:00:00        -11.4 -19.3    1005.0    586.600     0   \n",
       "\n",
       "    electricity_consumption  hour  dayofweek  dayofmonth  dayofyear  \\\n",
       "ID                                                                    \n",
       "0                     216.0     0          0           1        182   \n",
       "1                     210.0     1          0           1        182   \n",
       "2                     225.0     2          0           1        182   \n",
       "3                     216.0     3          0           1        182   \n",
       "4                     222.0     4          0           1        182   \n",
       "\n",
       "    weekofyear  quarter  month  year  binned_hour  binned_week  \n",
       "ID                                                              \n",
       "0           27        3      7  2013            0            0  \n",
       "1           27        3      7  2013            0            0  \n",
       "2           27        3      7  2013            0            0  \n",
       "3           27        3      7  2013            0            0  \n",
       "4           27        3      7  2013            0            0  "
      ]
     },
     "execution_count": 57,
     "metadata": {},
     "output_type": "execute_result"
    }
   ],
   "source": [
    "# # roughly segmented by the working hours\n",
    "\n",
    "hour_bin_map_dict = {21:0, 22:0, 23:0, 0:0, 1:0, 2:0, 3:0, 4:0, 5:0, 6:0,\n",
    "                    7:1, 8:1, 9:1, 10:1, 11:2, 12:2, 13:2, 14:2, 15:2, 16:2, 17:2,\n",
    "                    18:3, 19:3, 20:3}\n",
    "\n",
    "df['binned_hour'] = df['hour'].map(hour_bin_map_dict)\n",
    "\n",
    "# Repeat segmentation by weekend vs weekday\n",
    "week_bin_map_dict = {0:0, 1:0, 2:0, 3:0, 4:0, 5:1, 6:1}\n",
    "\n",
    "df['binned_week'] = df['dayofweek'].map(week_bin_map_dict)\n",
    "\n",
    "# # # temperature bin thresholds should be the IQR for each season\n",
    "# temp_bins = [-np.inf, 0, 7, 14, np.inf]\n",
    "# temp_bin_names = [1,2,3,4]\n",
    "\n",
    "# df['temp_range'] = pd.cut(df['temperature'], temp_bins, labels=temp_bin_names)\n",
    "\n",
    "df.head()"
   ]
  },
  {
   "cell_type": "code",
   "execution_count": 58,
   "metadata": {},
   "outputs": [],
   "source": [
    "# df['temp_range'] = df['temp_range'].astype('int32')"
   ]
  },
  {
   "cell_type": "code",
   "execution_count": 59,
   "metadata": {},
   "outputs": [],
   "source": [
    "# del df['temperature']"
   ]
  },
  {
   "cell_type": "code",
   "execution_count": 60,
   "metadata": {},
   "outputs": [],
   "source": [
    "# del df['hour']\n",
    "# del df['dayofweek']"
   ]
  },
  {
   "cell_type": "code",
   "execution_count": 61,
   "metadata": {},
   "outputs": [],
   "source": [
    "del df['dayofmonth']"
   ]
  },
  {
   "cell_type": "code",
   "execution_count": 62,
   "metadata": {},
   "outputs": [
    {
     "data": {
      "text/html": [
       "<div>\n",
       "<style scoped>\n",
       "    .dataframe tbody tr th:only-of-type {\n",
       "        vertical-align: middle;\n",
       "    }\n",
       "\n",
       "    .dataframe tbody tr th {\n",
       "        vertical-align: top;\n",
       "    }\n",
       "\n",
       "    .dataframe thead th {\n",
       "        text-align: right;\n",
       "    }\n",
       "</style>\n",
       "<table border=\"1\" class=\"dataframe\">\n",
       "  <thead>\n",
       "    <tr style=\"text-align: right;\">\n",
       "      <th></th>\n",
       "      <th>temperature</th>\n",
       "      <th>var1</th>\n",
       "      <th>pressure</th>\n",
       "      <th>windspeed</th>\n",
       "      <th>var2</th>\n",
       "      <th>electricity_consumption</th>\n",
       "      <th>hour</th>\n",
       "      <th>dayofweek</th>\n",
       "      <th>dayofyear</th>\n",
       "      <th>weekofyear</th>\n",
       "      <th>quarter</th>\n",
       "      <th>month</th>\n",
       "      <th>year</th>\n",
       "      <th>binned_hour</th>\n",
       "      <th>binned_week</th>\n",
       "    </tr>\n",
       "    <tr>\n",
       "      <th>ID</th>\n",
       "      <th></th>\n",
       "      <th></th>\n",
       "      <th></th>\n",
       "      <th></th>\n",
       "      <th></th>\n",
       "      <th></th>\n",
       "      <th></th>\n",
       "      <th></th>\n",
       "      <th></th>\n",
       "      <th></th>\n",
       "      <th></th>\n",
       "      <th></th>\n",
       "      <th></th>\n",
       "      <th></th>\n",
       "      <th></th>\n",
       "    </tr>\n",
       "  </thead>\n",
       "  <tbody>\n",
       "    <tr>\n",
       "      <th>0</th>\n",
       "      <td>-11.4</td>\n",
       "      <td>-17.1</td>\n",
       "      <td>1003.0</td>\n",
       "      <td>571.910</td>\n",
       "      <td>0</td>\n",
       "      <td>216.0</td>\n",
       "      <td>0</td>\n",
       "      <td>0</td>\n",
       "      <td>182</td>\n",
       "      <td>27</td>\n",
       "      <td>3</td>\n",
       "      <td>7</td>\n",
       "      <td>2013</td>\n",
       "      <td>0</td>\n",
       "      <td>0</td>\n",
       "    </tr>\n",
       "    <tr>\n",
       "      <th>1</th>\n",
       "      <td>-12.1</td>\n",
       "      <td>-19.3</td>\n",
       "      <td>996.0</td>\n",
       "      <td>575.040</td>\n",
       "      <td>0</td>\n",
       "      <td>210.0</td>\n",
       "      <td>1</td>\n",
       "      <td>0</td>\n",
       "      <td>182</td>\n",
       "      <td>27</td>\n",
       "      <td>3</td>\n",
       "      <td>7</td>\n",
       "      <td>2013</td>\n",
       "      <td>0</td>\n",
       "      <td>0</td>\n",
       "    </tr>\n",
       "    <tr>\n",
       "      <th>2</th>\n",
       "      <td>-12.9</td>\n",
       "      <td>-20.0</td>\n",
       "      <td>1000.0</td>\n",
       "      <td>578.435</td>\n",
       "      <td>0</td>\n",
       "      <td>225.0</td>\n",
       "      <td>2</td>\n",
       "      <td>0</td>\n",
       "      <td>182</td>\n",
       "      <td>27</td>\n",
       "      <td>3</td>\n",
       "      <td>7</td>\n",
       "      <td>2013</td>\n",
       "      <td>0</td>\n",
       "      <td>0</td>\n",
       "    </tr>\n",
       "    <tr>\n",
       "      <th>3</th>\n",
       "      <td>-11.4</td>\n",
       "      <td>-17.1</td>\n",
       "      <td>995.0</td>\n",
       "      <td>582.580</td>\n",
       "      <td>0</td>\n",
       "      <td>216.0</td>\n",
       "      <td>3</td>\n",
       "      <td>0</td>\n",
       "      <td>182</td>\n",
       "      <td>27</td>\n",
       "      <td>3</td>\n",
       "      <td>7</td>\n",
       "      <td>2013</td>\n",
       "      <td>0</td>\n",
       "      <td>0</td>\n",
       "    </tr>\n",
       "    <tr>\n",
       "      <th>4</th>\n",
       "      <td>-11.4</td>\n",
       "      <td>-19.3</td>\n",
       "      <td>1005.0</td>\n",
       "      <td>586.600</td>\n",
       "      <td>0</td>\n",
       "      <td>222.0</td>\n",
       "      <td>4</td>\n",
       "      <td>0</td>\n",
       "      <td>182</td>\n",
       "      <td>27</td>\n",
       "      <td>3</td>\n",
       "      <td>7</td>\n",
       "      <td>2013</td>\n",
       "      <td>0</td>\n",
       "      <td>0</td>\n",
       "    </tr>\n",
       "  </tbody>\n",
       "</table>\n",
       "</div>"
      ],
      "text/plain": [
       "    temperature  var1  pressure  windspeed  var2  electricity_consumption  \\\n",
       "ID                                                                          \n",
       "0         -11.4 -17.1    1003.0    571.910     0                    216.0   \n",
       "1         -12.1 -19.3     996.0    575.040     0                    210.0   \n",
       "2         -12.9 -20.0    1000.0    578.435     0                    225.0   \n",
       "3         -11.4 -17.1     995.0    582.580     0                    216.0   \n",
       "4         -11.4 -19.3    1005.0    586.600     0                    222.0   \n",
       "\n",
       "    hour  dayofweek  dayofyear  weekofyear  quarter  month  year  binned_hour  \\\n",
       "ID                                                                              \n",
       "0      0          0        182          27        3      7  2013            0   \n",
       "1      1          0        182          27        3      7  2013            0   \n",
       "2      2          0        182          27        3      7  2013            0   \n",
       "3      3          0        182          27        3      7  2013            0   \n",
       "4      4          0        182          27        3      7  2013            0   \n",
       "\n",
       "    binned_week  \n",
       "ID               \n",
       "0             0  \n",
       "1             0  \n",
       "2             0  \n",
       "3             0  \n",
       "4             0  "
      ]
     },
     "execution_count": 62,
     "metadata": {},
     "output_type": "execute_result"
    }
   ],
   "source": [
    "del df['datetime']\n",
    "df.head()"
   ]
  },
  {
   "cell_type": "markdown",
   "metadata": {},
   "source": [
    "## <a id = 6 > Hyperparam tuning"
   ]
  },
  {
   "cell_type": "markdown",
   "metadata": {},
   "source": [
    "### <a id = 61 > Feature Target and Train Test split"
   ]
  },
  {
   "cell_type": "code",
   "execution_count": 63,
   "metadata": {},
   "outputs": [],
   "source": [
    "X = df.drop(target_class_name, axis=1)\n",
    "y = df[target_class_name]\n",
    "\n",
    "\n",
    "# split into train and test set \n",
    "from sklearn.model_selection import train_test_split\n",
    "X_train, X_test, y_train, y_test = train_test_split(X, y, test_size=0.2, random_state=42)"
   ]
  },
  {
   "cell_type": "markdown",
   "metadata": {},
   "source": [
    "### <a id = 62 > Initialize XGBoost Search Space"
   ]
  },
  {
   "cell_type": "code",
   "execution_count": 64,
   "metadata": {},
   "outputs": [],
   "source": [
    "# !pip install xgboost"
   ]
  },
  {
   "cell_type": "code",
   "execution_count": 65,
   "metadata": {},
   "outputs": [],
   "source": [
    "from xgboost import XGBRegressor\n",
    "\n",
    "from collections import Counter\n",
    "\n",
    "hyper_param_space_dict = Counter()\n",
    "hyper_param_space_dict['XGBoost'] = {\n",
    "    \n",
    "    'random_state': [42],\n",
    "    'n_estimators':[100, 200],\n",
    "    'max_depth': [3, 5, 7], \n",
    "    'colsample_bytree':[0.5, 0.7, 1],\n",
    "    \n",
    "    'objective':['reg:squarederror'],\n",
    "    'early_stopping_rounds':[5],\n",
    "}"
   ]
  },
  {
   "cell_type": "markdown",
   "metadata": {},
   "source": [
    "### <a id = 63 > GridSearchCV"
   ]
  },
  {
   "cell_type": "code",
   "execution_count": 66,
   "metadata": {
    "scrolled": true
   },
   "outputs": [
    {
     "name": "stdout",
     "output_type": "stream",
     "text": [
      "Fitting 5 folds for each of 18 candidates, totalling 90 fits\n",
      "[CV] colsample_bytree=0.5, early_stopping_rounds=5, max_depth=3, n_estimators=100, objective=reg:squarederror, random_state=42 \n"
     ]
    },
    {
     "name": "stderr",
     "output_type": "stream",
     "text": [
      "[Parallel(n_jobs=1)]: Using backend SequentialBackend with 1 concurrent workers.\n"
     ]
    },
    {
     "name": "stdout",
     "output_type": "stream",
     "text": [
      "[CV]  colsample_bytree=0.5, early_stopping_rounds=5, max_depth=3, n_estimators=100, objective=reg:squarederror, random_state=42, score=0.3627605500492025, total=   0.6s\n",
      "[CV] colsample_bytree=0.5, early_stopping_rounds=5, max_depth=3, n_estimators=100, objective=reg:squarederror, random_state=42 \n"
     ]
    },
    {
     "name": "stderr",
     "output_type": "stream",
     "text": [
      "[Parallel(n_jobs=1)]: Done   1 out of   1 | elapsed:    0.6s remaining:    0.0s\n"
     ]
    },
    {
     "name": "stdout",
     "output_type": "stream",
     "text": [
      "[CV]  colsample_bytree=0.5, early_stopping_rounds=5, max_depth=3, n_estimators=100, objective=reg:squarederror, random_state=42, score=0.390175302192058, total=   0.6s\n",
      "[CV] colsample_bytree=0.5, early_stopping_rounds=5, max_depth=3, n_estimators=100, objective=reg:squarederror, random_state=42 \n"
     ]
    },
    {
     "name": "stderr",
     "output_type": "stream",
     "text": [
      "[Parallel(n_jobs=1)]: Done   2 out of   2 | elapsed:    1.2s remaining:    0.0s\n"
     ]
    },
    {
     "name": "stdout",
     "output_type": "stream",
     "text": [
      "[CV]  colsample_bytree=0.5, early_stopping_rounds=5, max_depth=3, n_estimators=100, objective=reg:squarederror, random_state=42, score=0.40110326903628846, total=   0.6s\n",
      "[CV] colsample_bytree=0.5, early_stopping_rounds=5, max_depth=3, n_estimators=100, objective=reg:squarederror, random_state=42 \n"
     ]
    },
    {
     "name": "stderr",
     "output_type": "stream",
     "text": [
      "[Parallel(n_jobs=1)]: Done   3 out of   3 | elapsed:    1.8s remaining:    0.0s\n"
     ]
    },
    {
     "name": "stdout",
     "output_type": "stream",
     "text": [
      "[CV]  colsample_bytree=0.5, early_stopping_rounds=5, max_depth=3, n_estimators=100, objective=reg:squarederror, random_state=42, score=0.32784303079873844, total=   0.6s\n",
      "[CV] colsample_bytree=0.5, early_stopping_rounds=5, max_depth=3, n_estimators=100, objective=reg:squarederror, random_state=42 \n"
     ]
    },
    {
     "name": "stderr",
     "output_type": "stream",
     "text": [
      "[Parallel(n_jobs=1)]: Done   4 out of   4 | elapsed:    2.4s remaining:    0.0s\n"
     ]
    },
    {
     "name": "stdout",
     "output_type": "stream",
     "text": [
      "[CV]  colsample_bytree=0.5, early_stopping_rounds=5, max_depth=3, n_estimators=100, objective=reg:squarederror, random_state=42, score=0.36519877876835677, total=   0.6s\n",
      "[CV] colsample_bytree=0.5, early_stopping_rounds=5, max_depth=3, n_estimators=200, objective=reg:squarederror, random_state=42 \n"
     ]
    },
    {
     "name": "stderr",
     "output_type": "stream",
     "text": [
      "[Parallel(n_jobs=1)]: Done   5 out of   5 | elapsed:    3.0s remaining:    0.0s\n"
     ]
    },
    {
     "name": "stdout",
     "output_type": "stream",
     "text": [
      "[CV]  colsample_bytree=0.5, early_stopping_rounds=5, max_depth=3, n_estimators=200, objective=reg:squarederror, random_state=42, score=0.3781916598964862, total=   1.1s\n",
      "[CV] colsample_bytree=0.5, early_stopping_rounds=5, max_depth=3, n_estimators=200, objective=reg:squarederror, random_state=42 \n"
     ]
    },
    {
     "name": "stderr",
     "output_type": "stream",
     "text": [
      "[Parallel(n_jobs=1)]: Done   6 out of   6 | elapsed:    4.2s remaining:    0.0s\n"
     ]
    },
    {
     "name": "stdout",
     "output_type": "stream",
     "text": [
      "[CV]  colsample_bytree=0.5, early_stopping_rounds=5, max_depth=3, n_estimators=200, objective=reg:squarederror, random_state=42, score=0.34302338471915794, total=   1.1s\n",
      "[CV] colsample_bytree=0.5, early_stopping_rounds=5, max_depth=3, n_estimators=200, objective=reg:squarederror, random_state=42 \n"
     ]
    },
    {
     "name": "stderr",
     "output_type": "stream",
     "text": [
      "[Parallel(n_jobs=1)]: Done   7 out of   7 | elapsed:    5.3s remaining:    0.0s\n"
     ]
    },
    {
     "name": "stdout",
     "output_type": "stream",
     "text": [
      "[CV]  colsample_bytree=0.5, early_stopping_rounds=5, max_depth=3, n_estimators=200, objective=reg:squarederror, random_state=42, score=0.37821114166704817, total=   1.1s\n",
      "[CV] colsample_bytree=0.5, early_stopping_rounds=5, max_depth=3, n_estimators=200, objective=reg:squarederror, random_state=42 \n"
     ]
    },
    {
     "name": "stderr",
     "output_type": "stream",
     "text": [
      "[Parallel(n_jobs=1)]: Done   8 out of   8 | elapsed:    6.5s remaining:    0.0s\n"
     ]
    },
    {
     "name": "stdout",
     "output_type": "stream",
     "text": [
      "[CV]  colsample_bytree=0.5, early_stopping_rounds=5, max_depth=3, n_estimators=200, objective=reg:squarederror, random_state=42, score=0.29012427304886745, total=   1.1s\n",
      "[CV] colsample_bytree=0.5, early_stopping_rounds=5, max_depth=3, n_estimators=200, objective=reg:squarederror, random_state=42 \n"
     ]
    },
    {
     "name": "stderr",
     "output_type": "stream",
     "text": [
      "[Parallel(n_jobs=1)]: Done   9 out of   9 | elapsed:    7.6s remaining:    0.0s\n"
     ]
    },
    {
     "name": "stdout",
     "output_type": "stream",
     "text": [
      "[CV]  colsample_bytree=0.5, early_stopping_rounds=5, max_depth=3, n_estimators=200, objective=reg:squarederror, random_state=42, score=0.3444198826147431, total=   1.1s\n",
      "[CV] colsample_bytree=0.5, early_stopping_rounds=5, max_depth=5, n_estimators=100, objective=reg:squarederror, random_state=42 \n",
      "[CV]  colsample_bytree=0.5, early_stopping_rounds=5, max_depth=5, n_estimators=100, objective=reg:squarederror, random_state=42, score=0.31562619809683035, total=   0.8s\n",
      "[CV] colsample_bytree=0.5, early_stopping_rounds=5, max_depth=5, n_estimators=100, objective=reg:squarederror, random_state=42 \n",
      "[CV]  colsample_bytree=0.5, early_stopping_rounds=5, max_depth=5, n_estimators=100, objective=reg:squarederror, random_state=42, score=0.34880593482209554, total=   0.8s\n",
      "[CV] colsample_bytree=0.5, early_stopping_rounds=5, max_depth=5, n_estimators=100, objective=reg:squarederror, random_state=42 \n",
      "[CV]  colsample_bytree=0.5, early_stopping_rounds=5, max_depth=5, n_estimators=100, objective=reg:squarederror, random_state=42, score=0.37274832676396796, total=   0.8s\n",
      "[CV] colsample_bytree=0.5, early_stopping_rounds=5, max_depth=5, n_estimators=100, objective=reg:squarederror, random_state=42 \n",
      "[CV]  colsample_bytree=0.5, early_stopping_rounds=5, max_depth=5, n_estimators=100, objective=reg:squarederror, random_state=42, score=0.3335791094343722, total=   0.8s\n",
      "[CV] colsample_bytree=0.5, early_stopping_rounds=5, max_depth=5, n_estimators=100, objective=reg:squarederror, random_state=42 \n",
      "[CV]  colsample_bytree=0.5, early_stopping_rounds=5, max_depth=5, n_estimators=100, objective=reg:squarederror, random_state=42, score=0.3725472465720757, total=   0.8s\n",
      "[CV] colsample_bytree=0.5, early_stopping_rounds=5, max_depth=5, n_estimators=200, objective=reg:squarederror, random_state=42 \n",
      "[CV]  colsample_bytree=0.5, early_stopping_rounds=5, max_depth=5, n_estimators=200, objective=reg:squarederror, random_state=42, score=0.2480367398297378, total=   1.5s\n",
      "[CV] colsample_bytree=0.5, early_stopping_rounds=5, max_depth=5, n_estimators=200, objective=reg:squarederror, random_state=42 \n",
      "[CV]  colsample_bytree=0.5, early_stopping_rounds=5, max_depth=5, n_estimators=200, objective=reg:squarederror, random_state=42, score=0.3185846712703837, total=   1.5s\n",
      "[CV] colsample_bytree=0.5, early_stopping_rounds=5, max_depth=5, n_estimators=200, objective=reg:squarederror, random_state=42 \n",
      "[CV]  colsample_bytree=0.5, early_stopping_rounds=5, max_depth=5, n_estimators=200, objective=reg:squarederror, random_state=42, score=0.3511265063752903, total=   1.7s\n",
      "[CV] colsample_bytree=0.5, early_stopping_rounds=5, max_depth=5, n_estimators=200, objective=reg:squarederror, random_state=42 \n",
      "[CV]  colsample_bytree=0.5, early_stopping_rounds=5, max_depth=5, n_estimators=200, objective=reg:squarederror, random_state=42, score=0.29355461841361086, total=   1.5s\n",
      "[CV] colsample_bytree=0.5, early_stopping_rounds=5, max_depth=5, n_estimators=200, objective=reg:squarederror, random_state=42 \n",
      "[CV]  colsample_bytree=0.5, early_stopping_rounds=5, max_depth=5, n_estimators=200, objective=reg:squarederror, random_state=42, score=0.3430144821974568, total=   1.6s\n",
      "[CV] colsample_bytree=0.5, early_stopping_rounds=5, max_depth=7, n_estimators=100, objective=reg:squarederror, random_state=42 \n",
      "[CV]  colsample_bytree=0.5, early_stopping_rounds=5, max_depth=7, n_estimators=100, objective=reg:squarederror, random_state=42, score=0.29637646587184213, total=   1.1s\n",
      "[CV] colsample_bytree=0.5, early_stopping_rounds=5, max_depth=7, n_estimators=100, objective=reg:squarederror, random_state=42 \n",
      "[CV]  colsample_bytree=0.5, early_stopping_rounds=5, max_depth=7, n_estimators=100, objective=reg:squarederror, random_state=42, score=0.2693952839980973, total=   1.1s\n",
      "[CV] colsample_bytree=0.5, early_stopping_rounds=5, max_depth=7, n_estimators=100, objective=reg:squarederror, random_state=42 \n",
      "[CV]  colsample_bytree=0.5, early_stopping_rounds=5, max_depth=7, n_estimators=100, objective=reg:squarederror, random_state=42, score=0.29534192120206115, total=   1.1s\n",
      "[CV] colsample_bytree=0.5, early_stopping_rounds=5, max_depth=7, n_estimators=100, objective=reg:squarederror, random_state=42 \n",
      "[CV]  colsample_bytree=0.5, early_stopping_rounds=5, max_depth=7, n_estimators=100, objective=reg:squarederror, random_state=42, score=0.29432288806055973, total=   1.1s\n",
      "[CV] colsample_bytree=0.5, early_stopping_rounds=5, max_depth=7, n_estimators=100, objective=reg:squarederror, random_state=42 \n",
      "[CV]  colsample_bytree=0.5, early_stopping_rounds=5, max_depth=7, n_estimators=100, objective=reg:squarederror, random_state=42, score=0.4027308588301547, total=   1.1s\n",
      "[CV] colsample_bytree=0.5, early_stopping_rounds=5, max_depth=7, n_estimators=200, objective=reg:squarederror, random_state=42 \n",
      "[CV]  colsample_bytree=0.5, early_stopping_rounds=5, max_depth=7, n_estimators=200, objective=reg:squarederror, random_state=42, score=0.2741632321126488, total=   2.1s\n",
      "[CV] colsample_bytree=0.5, early_stopping_rounds=5, max_depth=7, n_estimators=200, objective=reg:squarederror, random_state=42 \n",
      "[CV]  colsample_bytree=0.5, early_stopping_rounds=5, max_depth=7, n_estimators=200, objective=reg:squarederror, random_state=42, score=0.2402438243855508, total=   2.1s\n",
      "[CV] colsample_bytree=0.5, early_stopping_rounds=5, max_depth=7, n_estimators=200, objective=reg:squarederror, random_state=42 \n",
      "[CV]  colsample_bytree=0.5, early_stopping_rounds=5, max_depth=7, n_estimators=200, objective=reg:squarederror, random_state=42, score=0.26773894656365227, total=   2.1s\n",
      "[CV] colsample_bytree=0.5, early_stopping_rounds=5, max_depth=7, n_estimators=200, objective=reg:squarederror, random_state=42 \n",
      "[CV]  colsample_bytree=0.5, early_stopping_rounds=5, max_depth=7, n_estimators=200, objective=reg:squarederror, random_state=42, score=0.2667676880754053, total=   2.1s\n",
      "[CV] colsample_bytree=0.5, early_stopping_rounds=5, max_depth=7, n_estimators=200, objective=reg:squarederror, random_state=42 \n",
      "[CV]  colsample_bytree=0.5, early_stopping_rounds=5, max_depth=7, n_estimators=200, objective=reg:squarederror, random_state=42, score=0.38509859085956427, total=   2.1s\n",
      "[CV] colsample_bytree=0.7, early_stopping_rounds=5, max_depth=3, n_estimators=100, objective=reg:squarederror, random_state=42 \n",
      "[CV]  colsample_bytree=0.7, early_stopping_rounds=5, max_depth=3, n_estimators=100, objective=reg:squarederror, random_state=42, score=0.3480354360295027, total=   0.6s\n",
      "[CV] colsample_bytree=0.7, early_stopping_rounds=5, max_depth=3, n_estimators=100, objective=reg:squarederror, random_state=42 \n",
      "[CV]  colsample_bytree=0.7, early_stopping_rounds=5, max_depth=3, n_estimators=100, objective=reg:squarederror, random_state=42, score=0.39692088938390646, total=   0.7s\n",
      "[CV] colsample_bytree=0.7, early_stopping_rounds=5, max_depth=3, n_estimators=100, objective=reg:squarederror, random_state=42 \n",
      "[CV]  colsample_bytree=0.7, early_stopping_rounds=5, max_depth=3, n_estimators=100, objective=reg:squarederror, random_state=42, score=0.39466111173859175, total=   0.6s\n",
      "[CV] colsample_bytree=0.7, early_stopping_rounds=5, max_depth=3, n_estimators=100, objective=reg:squarederror, random_state=42 \n",
      "[CV]  colsample_bytree=0.7, early_stopping_rounds=5, max_depth=3, n_estimators=100, objective=reg:squarederror, random_state=42, score=0.34321630450215745, total=   0.6s\n",
      "[CV] colsample_bytree=0.7, early_stopping_rounds=5, max_depth=3, n_estimators=100, objective=reg:squarederror, random_state=42 \n",
      "[CV]  colsample_bytree=0.7, early_stopping_rounds=5, max_depth=3, n_estimators=100, objective=reg:squarederror, random_state=42, score=0.37172459595809193, total=   0.6s\n",
      "[CV] colsample_bytree=0.7, early_stopping_rounds=5, max_depth=3, n_estimators=200, objective=reg:squarederror, random_state=42 \n",
      "[CV]  colsample_bytree=0.7, early_stopping_rounds=5, max_depth=3, n_estimators=200, objective=reg:squarederror, random_state=42, score=0.3502910630312388, total=   1.2s\n",
      "[CV] colsample_bytree=0.7, early_stopping_rounds=5, max_depth=3, n_estimators=200, objective=reg:squarederror, random_state=42 \n",
      "[CV]  colsample_bytree=0.7, early_stopping_rounds=5, max_depth=3, n_estimators=200, objective=reg:squarederror, random_state=42, score=0.3611852804865717, total=   1.2s\n",
      "[CV] colsample_bytree=0.7, early_stopping_rounds=5, max_depth=3, n_estimators=200, objective=reg:squarederror, random_state=42 \n"
     ]
    },
    {
     "name": "stdout",
     "output_type": "stream",
     "text": [
      "[CV]  colsample_bytree=0.7, early_stopping_rounds=5, max_depth=3, n_estimators=200, objective=reg:squarederror, random_state=42, score=0.3791844095133716, total=   1.1s\n",
      "[CV] colsample_bytree=0.7, early_stopping_rounds=5, max_depth=3, n_estimators=200, objective=reg:squarederror, random_state=42 \n",
      "[CV]  colsample_bytree=0.7, early_stopping_rounds=5, max_depth=3, n_estimators=200, objective=reg:squarederror, random_state=42, score=0.3068677524008867, total=   1.1s\n",
      "[CV] colsample_bytree=0.7, early_stopping_rounds=5, max_depth=3, n_estimators=200, objective=reg:squarederror, random_state=42 \n",
      "[CV]  colsample_bytree=0.7, early_stopping_rounds=5, max_depth=3, n_estimators=200, objective=reg:squarederror, random_state=42, score=0.3683595778314348, total=   1.2s\n",
      "[CV] colsample_bytree=0.7, early_stopping_rounds=5, max_depth=5, n_estimators=100, objective=reg:squarederror, random_state=42 \n",
      "[CV]  colsample_bytree=0.7, early_stopping_rounds=5, max_depth=5, n_estimators=100, objective=reg:squarederror, random_state=42, score=0.3314735347192116, total=   0.9s\n",
      "[CV] colsample_bytree=0.7, early_stopping_rounds=5, max_depth=5, n_estimators=100, objective=reg:squarederror, random_state=42 \n",
      "[CV]  colsample_bytree=0.7, early_stopping_rounds=5, max_depth=5, n_estimators=100, objective=reg:squarederror, random_state=42, score=0.36867398266223317, total=   0.9s\n",
      "[CV] colsample_bytree=0.7, early_stopping_rounds=5, max_depth=5, n_estimators=100, objective=reg:squarederror, random_state=42 \n",
      "[CV]  colsample_bytree=0.7, early_stopping_rounds=5, max_depth=5, n_estimators=100, objective=reg:squarederror, random_state=42, score=0.34843878917429727, total=   0.9s\n",
      "[CV] colsample_bytree=0.7, early_stopping_rounds=5, max_depth=5, n_estimators=100, objective=reg:squarederror, random_state=42 \n",
      "[CV]  colsample_bytree=0.7, early_stopping_rounds=5, max_depth=5, n_estimators=100, objective=reg:squarederror, random_state=42, score=0.30206788303576115, total=   0.9s\n",
      "[CV] colsample_bytree=0.7, early_stopping_rounds=5, max_depth=5, n_estimators=100, objective=reg:squarederror, random_state=42 \n",
      "[CV]  colsample_bytree=0.7, early_stopping_rounds=5, max_depth=5, n_estimators=100, objective=reg:squarederror, random_state=42, score=0.3552504417775328, total=   0.9s\n",
      "[CV] colsample_bytree=0.7, early_stopping_rounds=5, max_depth=5, n_estimators=200, objective=reg:squarederror, random_state=42 \n",
      "[CV]  colsample_bytree=0.7, early_stopping_rounds=5, max_depth=5, n_estimators=200, objective=reg:squarederror, random_state=42, score=0.31342670215834323, total=   1.8s\n",
      "[CV] colsample_bytree=0.7, early_stopping_rounds=5, max_depth=5, n_estimators=200, objective=reg:squarederror, random_state=42 \n",
      "[CV]  colsample_bytree=0.7, early_stopping_rounds=5, max_depth=5, n_estimators=200, objective=reg:squarederror, random_state=42, score=0.33404382860500414, total=   3.5s\n",
      "[CV] colsample_bytree=0.7, early_stopping_rounds=5, max_depth=5, n_estimators=200, objective=reg:squarederror, random_state=42 \n",
      "[CV]  colsample_bytree=0.7, early_stopping_rounds=5, max_depth=5, n_estimators=200, objective=reg:squarederror, random_state=42, score=0.3047652796479813, total=   1.7s\n",
      "[CV] colsample_bytree=0.7, early_stopping_rounds=5, max_depth=5, n_estimators=200, objective=reg:squarederror, random_state=42 \n",
      "[CV]  colsample_bytree=0.7, early_stopping_rounds=5, max_depth=5, n_estimators=200, objective=reg:squarederror, random_state=42, score=0.26074203830985954, total=   1.7s\n",
      "[CV] colsample_bytree=0.7, early_stopping_rounds=5, max_depth=5, n_estimators=200, objective=reg:squarederror, random_state=42 \n",
      "[CV]  colsample_bytree=0.7, early_stopping_rounds=5, max_depth=5, n_estimators=200, objective=reg:squarederror, random_state=42, score=0.3349069688114007, total=   1.7s\n",
      "[CV] colsample_bytree=0.7, early_stopping_rounds=5, max_depth=7, n_estimators=100, objective=reg:squarederror, random_state=42 \n",
      "[CV]  colsample_bytree=0.7, early_stopping_rounds=5, max_depth=7, n_estimators=100, objective=reg:squarederror, random_state=42, score=0.24626655183474644, total=   1.2s\n",
      "[CV] colsample_bytree=0.7, early_stopping_rounds=5, max_depth=7, n_estimators=100, objective=reg:squarederror, random_state=42 \n",
      "[CV]  colsample_bytree=0.7, early_stopping_rounds=5, max_depth=7, n_estimators=100, objective=reg:squarederror, random_state=42, score=0.3217066087228476, total=   1.2s\n",
      "[CV] colsample_bytree=0.7, early_stopping_rounds=5, max_depth=7, n_estimators=100, objective=reg:squarederror, random_state=42 \n",
      "[CV]  colsample_bytree=0.7, early_stopping_rounds=5, max_depth=7, n_estimators=100, objective=reg:squarederror, random_state=42, score=0.32250929875073153, total=   1.2s\n",
      "[CV] colsample_bytree=0.7, early_stopping_rounds=5, max_depth=7, n_estimators=100, objective=reg:squarederror, random_state=42 \n",
      "[CV]  colsample_bytree=0.7, early_stopping_rounds=5, max_depth=7, n_estimators=100, objective=reg:squarederror, random_state=42, score=0.2941172303860722, total=   1.2s\n",
      "[CV] colsample_bytree=0.7, early_stopping_rounds=5, max_depth=7, n_estimators=100, objective=reg:squarederror, random_state=42 \n",
      "[CV]  colsample_bytree=0.7, early_stopping_rounds=5, max_depth=7, n_estimators=100, objective=reg:squarederror, random_state=42, score=0.32223325845529915, total=   1.2s\n",
      "[CV] colsample_bytree=0.7, early_stopping_rounds=5, max_depth=7, n_estimators=200, objective=reg:squarederror, random_state=42 \n",
      "[CV]  colsample_bytree=0.7, early_stopping_rounds=5, max_depth=7, n_estimators=200, objective=reg:squarederror, random_state=42, score=0.21665282426793675, total=   2.3s\n",
      "[CV] colsample_bytree=0.7, early_stopping_rounds=5, max_depth=7, n_estimators=200, objective=reg:squarederror, random_state=42 \n",
      "[CV]  colsample_bytree=0.7, early_stopping_rounds=5, max_depth=7, n_estimators=200, objective=reg:squarederror, random_state=42, score=0.30628703136684954, total=   2.3s\n",
      "[CV] colsample_bytree=0.7, early_stopping_rounds=5, max_depth=7, n_estimators=200, objective=reg:squarederror, random_state=42 \n",
      "[CV]  colsample_bytree=0.7, early_stopping_rounds=5, max_depth=7, n_estimators=200, objective=reg:squarederror, random_state=42, score=0.2952249428893734, total=   2.3s\n",
      "[CV] colsample_bytree=0.7, early_stopping_rounds=5, max_depth=7, n_estimators=200, objective=reg:squarederror, random_state=42 \n",
      "[CV]  colsample_bytree=0.7, early_stopping_rounds=5, max_depth=7, n_estimators=200, objective=reg:squarederror, random_state=42, score=0.26141430113564146, total=   2.4s\n",
      "[CV] colsample_bytree=0.7, early_stopping_rounds=5, max_depth=7, n_estimators=200, objective=reg:squarederror, random_state=42 \n",
      "[CV]  colsample_bytree=0.7, early_stopping_rounds=5, max_depth=7, n_estimators=200, objective=reg:squarederror, random_state=42, score=0.2964524204040303, total=   2.3s\n",
      "[CV] colsample_bytree=1, early_stopping_rounds=5, max_depth=3, n_estimators=100, objective=reg:squarederror, random_state=42 \n",
      "[CV]  colsample_bytree=1, early_stopping_rounds=5, max_depth=3, n_estimators=100, objective=reg:squarederror, random_state=42, score=0.369875156070151, total=   0.7s\n",
      "[CV] colsample_bytree=1, early_stopping_rounds=5, max_depth=3, n_estimators=100, objective=reg:squarederror, random_state=42 \n",
      "[CV]  colsample_bytree=1, early_stopping_rounds=5, max_depth=3, n_estimators=100, objective=reg:squarederror, random_state=42, score=0.359746365402036, total=   0.7s\n",
      "[CV] colsample_bytree=1, early_stopping_rounds=5, max_depth=3, n_estimators=100, objective=reg:squarederror, random_state=42 \n",
      "[CV]  colsample_bytree=1, early_stopping_rounds=5, max_depth=3, n_estimators=100, objective=reg:squarederror, random_state=42, score=0.39487383411272226, total=   0.7s\n",
      "[CV] colsample_bytree=1, early_stopping_rounds=5, max_depth=3, n_estimators=100, objective=reg:squarederror, random_state=42 \n",
      "[CV]  colsample_bytree=1, early_stopping_rounds=5, max_depth=3, n_estimators=100, objective=reg:squarederror, random_state=42, score=0.33120825728124226, total=   0.7s\n",
      "[CV] colsample_bytree=1, early_stopping_rounds=5, max_depth=3, n_estimators=100, objective=reg:squarederror, random_state=42 \n",
      "[CV]  colsample_bytree=1, early_stopping_rounds=5, max_depth=3, n_estimators=100, objective=reg:squarederror, random_state=42, score=0.3807027603087587, total=   0.8s\n",
      "[CV] colsample_bytree=1, early_stopping_rounds=5, max_depth=3, n_estimators=200, objective=reg:squarederror, random_state=42 \n"
     ]
    },
    {
     "name": "stdout",
     "output_type": "stream",
     "text": [
      "[CV]  colsample_bytree=1, early_stopping_rounds=5, max_depth=3, n_estimators=200, objective=reg:squarederror, random_state=42, score=0.3578697865340052, total=   1.4s\n",
      "[CV] colsample_bytree=1, early_stopping_rounds=5, max_depth=3, n_estimators=200, objective=reg:squarederror, random_state=42 \n",
      "[CV]  colsample_bytree=1, early_stopping_rounds=5, max_depth=3, n_estimators=200, objective=reg:squarederror, random_state=42, score=0.3269893556452369, total=   1.3s\n",
      "[CV] colsample_bytree=1, early_stopping_rounds=5, max_depth=3, n_estimators=200, objective=reg:squarederror, random_state=42 \n",
      "[CV]  colsample_bytree=1, early_stopping_rounds=5, max_depth=3, n_estimators=200, objective=reg:squarederror, random_state=42, score=0.3814757140725572, total=   1.4s\n",
      "[CV] colsample_bytree=1, early_stopping_rounds=5, max_depth=3, n_estimators=200, objective=reg:squarederror, random_state=42 \n",
      "[CV]  colsample_bytree=1, early_stopping_rounds=5, max_depth=3, n_estimators=200, objective=reg:squarederror, random_state=42, score=0.2739218244707189, total=   1.3s\n",
      "[CV] colsample_bytree=1, early_stopping_rounds=5, max_depth=3, n_estimators=200, objective=reg:squarederror, random_state=42 \n",
      "[CV]  colsample_bytree=1, early_stopping_rounds=5, max_depth=3, n_estimators=200, objective=reg:squarederror, random_state=42, score=0.3152078315496223, total=   1.4s\n",
      "[CV] colsample_bytree=1, early_stopping_rounds=5, max_depth=5, n_estimators=100, objective=reg:squarederror, random_state=42 \n",
      "[CV]  colsample_bytree=1, early_stopping_rounds=5, max_depth=5, n_estimators=100, objective=reg:squarederror, random_state=42, score=0.3120041806484959, total=   1.0s\n",
      "[CV] colsample_bytree=1, early_stopping_rounds=5, max_depth=5, n_estimators=100, objective=reg:squarederror, random_state=42 \n",
      "[CV]  colsample_bytree=1, early_stopping_rounds=5, max_depth=5, n_estimators=100, objective=reg:squarederror, random_state=42, score=0.3134585135634991, total=   1.1s\n",
      "[CV] colsample_bytree=1, early_stopping_rounds=5, max_depth=5, n_estimators=100, objective=reg:squarederror, random_state=42 \n",
      "[CV]  colsample_bytree=1, early_stopping_rounds=5, max_depth=5, n_estimators=100, objective=reg:squarederror, random_state=42, score=0.36324012306055464, total=   1.1s\n",
      "[CV] colsample_bytree=1, early_stopping_rounds=5, max_depth=5, n_estimators=100, objective=reg:squarederror, random_state=42 \n",
      "[CV]  colsample_bytree=1, early_stopping_rounds=5, max_depth=5, n_estimators=100, objective=reg:squarederror, random_state=42, score=0.2848784802161556, total=   1.1s\n",
      "[CV] colsample_bytree=1, early_stopping_rounds=5, max_depth=5, n_estimators=100, objective=reg:squarederror, random_state=42 \n",
      "[CV]  colsample_bytree=1, early_stopping_rounds=5, max_depth=5, n_estimators=100, objective=reg:squarederror, random_state=42, score=0.23577941531158844, total=   1.1s\n",
      "[CV] colsample_bytree=1, early_stopping_rounds=5, max_depth=5, n_estimators=200, objective=reg:squarederror, random_state=42 \n",
      "[CV]  colsample_bytree=1, early_stopping_rounds=5, max_depth=5, n_estimators=200, objective=reg:squarederror, random_state=42, score=0.30124759448063865, total=   2.1s\n",
      "[CV] colsample_bytree=1, early_stopping_rounds=5, max_depth=5, n_estimators=200, objective=reg:squarederror, random_state=42 \n",
      "[CV]  colsample_bytree=1, early_stopping_rounds=5, max_depth=5, n_estimators=200, objective=reg:squarederror, random_state=42, score=0.2860395566286714, total=   2.1s\n",
      "[CV] colsample_bytree=1, early_stopping_rounds=5, max_depth=5, n_estimators=200, objective=reg:squarederror, random_state=42 \n",
      "[CV]  colsample_bytree=1, early_stopping_rounds=5, max_depth=5, n_estimators=200, objective=reg:squarederror, random_state=42, score=0.344952207709854, total=   2.1s\n",
      "[CV] colsample_bytree=1, early_stopping_rounds=5, max_depth=5, n_estimators=200, objective=reg:squarederror, random_state=42 \n",
      "[CV]  colsample_bytree=1, early_stopping_rounds=5, max_depth=5, n_estimators=200, objective=reg:squarederror, random_state=42, score=0.2358919543292185, total=   2.1s\n",
      "[CV] colsample_bytree=1, early_stopping_rounds=5, max_depth=5, n_estimators=200, objective=reg:squarederror, random_state=42 \n",
      "[CV]  colsample_bytree=1, early_stopping_rounds=5, max_depth=5, n_estimators=200, objective=reg:squarederror, random_state=42, score=0.18160533040853888, total=   2.1s\n",
      "[CV] colsample_bytree=1, early_stopping_rounds=5, max_depth=7, n_estimators=100, objective=reg:squarederror, random_state=42 \n",
      "[CV]  colsample_bytree=1, early_stopping_rounds=5, max_depth=7, n_estimators=100, objective=reg:squarederror, random_state=42, score=0.22504291384064445, total=   1.5s\n",
      "[CV] colsample_bytree=1, early_stopping_rounds=5, max_depth=7, n_estimators=100, objective=reg:squarederror, random_state=42 \n",
      "[CV]  colsample_bytree=1, early_stopping_rounds=5, max_depth=7, n_estimators=100, objective=reg:squarederror, random_state=42, score=0.24407594763638785, total=   1.5s\n",
      "[CV] colsample_bytree=1, early_stopping_rounds=5, max_depth=7, n_estimators=100, objective=reg:squarederror, random_state=42 \n",
      "[CV]  colsample_bytree=1, early_stopping_rounds=5, max_depth=7, n_estimators=100, objective=reg:squarederror, random_state=42, score=0.325083768824205, total=   1.5s\n",
      "[CV] colsample_bytree=1, early_stopping_rounds=5, max_depth=7, n_estimators=100, objective=reg:squarederror, random_state=42 \n",
      "[CV]  colsample_bytree=1, early_stopping_rounds=5, max_depth=7, n_estimators=100, objective=reg:squarederror, random_state=42, score=0.2645978078460959, total=   1.5s\n",
      "[CV] colsample_bytree=1, early_stopping_rounds=5, max_depth=7, n_estimators=100, objective=reg:squarederror, random_state=42 \n",
      "[CV]  colsample_bytree=1, early_stopping_rounds=5, max_depth=7, n_estimators=100, objective=reg:squarederror, random_state=42, score=0.37138938268961463, total=   1.5s\n",
      "[CV] colsample_bytree=1, early_stopping_rounds=5, max_depth=7, n_estimators=200, objective=reg:squarederror, random_state=42 \n",
      "[CV]  colsample_bytree=1, early_stopping_rounds=5, max_depth=7, n_estimators=200, objective=reg:squarederror, random_state=42, score=0.19815314993029154, total=   3.0s\n",
      "[CV] colsample_bytree=1, early_stopping_rounds=5, max_depth=7, n_estimators=200, objective=reg:squarederror, random_state=42 \n",
      "[CV]  colsample_bytree=1, early_stopping_rounds=5, max_depth=7, n_estimators=200, objective=reg:squarederror, random_state=42, score=0.22144957807219245, total=   3.0s\n",
      "[CV] colsample_bytree=1, early_stopping_rounds=5, max_depth=7, n_estimators=200, objective=reg:squarederror, random_state=42 \n",
      "[CV]  colsample_bytree=1, early_stopping_rounds=5, max_depth=7, n_estimators=200, objective=reg:squarederror, random_state=42, score=0.2876205170804357, total=   3.0s\n",
      "[CV] colsample_bytree=1, early_stopping_rounds=5, max_depth=7, n_estimators=200, objective=reg:squarederror, random_state=42 \n",
      "[CV]  colsample_bytree=1, early_stopping_rounds=5, max_depth=7, n_estimators=200, objective=reg:squarederror, random_state=42, score=0.24220768748185295, total=   3.0s\n",
      "[CV] colsample_bytree=1, early_stopping_rounds=5, max_depth=7, n_estimators=200, objective=reg:squarederror, random_state=42 \n",
      "[CV]  colsample_bytree=1, early_stopping_rounds=5, max_depth=7, n_estimators=200, objective=reg:squarederror, random_state=42, score=0.3416710914172588, total=   3.0s\n"
     ]
    },
    {
     "name": "stderr",
     "output_type": "stream",
     "text": [
      "[Parallel(n_jobs=1)]: Done  90 out of  90 | elapsed:  2.2min finished\n"
     ]
    },
    {
     "name": "stdout",
     "output_type": "stream",
     "text": [
      "CPU times: user 4min 24s, sys: 1.16 s, total: 4min 26s\n",
      "Wall time: 2min 15s\n"
     ]
    }
   ],
   "source": [
    "%%time\n",
    "from sklearn.model_selection import GridSearchCV\n",
    "grid_obj = GridSearchCV(XGBRegressor(), hyper_param_space_dict['XGBoost'], cv=5, verbose=10)\n",
    "\n",
    "grid_obj.fit(X, y)"
   ]
  },
  {
   "cell_type": "code",
   "execution_count": 67,
   "metadata": {},
   "outputs": [
    {
     "data": {
      "text/plain": [
       "{'colsample_bytree': 0.7,\n",
       " 'early_stopping_rounds': 5,\n",
       " 'max_depth': 3,\n",
       " 'n_estimators': 100,\n",
       " 'objective': 'reg:squarederror',\n",
       " 'random_state': 42}"
      ]
     },
     "execution_count": 67,
     "metadata": {},
     "output_type": "execute_result"
    }
   ],
   "source": [
    "grid_obj.best_params_"
   ]
  },
  {
   "cell_type": "markdown",
   "metadata": {},
   "source": [
    "## <a id = 7 > Modelling Workflow"
   ]
  },
  {
   "cell_type": "markdown",
   "metadata": {},
   "source": [
    "### <a id = 61 > Data Prep - Feature Target Split"
   ]
  },
  {
   "cell_type": "code",
   "execution_count": 68,
   "metadata": {},
   "outputs": [],
   "source": [
    "# X = df.drop(target_class_name, axis=1)\n",
    "# y = df[target_class_name]"
   ]
  },
  {
   "cell_type": "markdown",
   "metadata": {},
   "source": [
    "### <a id = 62 > Defining Error Metric"
   ]
  },
  {
   "cell_type": "code",
   "execution_count": 69,
   "metadata": {},
   "outputs": [],
   "source": [
    "# Calculate root mean squared error\n",
    "def rmse_metric(actual, predicted):\n",
    "    sum_error = 0.0\n",
    "    for i in range(len(actual)):\n",
    "        prediction_error = predicted[i] - actual[i]\n",
    "        sum_error += (prediction_error ** 2)\n",
    "        mean_error = sum_error / float(len(actual))\n",
    "    return np.sqrt(mean_error)"
   ]
  },
  {
   "cell_type": "markdown",
   "metadata": {},
   "source": [
    "### <a id='63'>Training XGBoost </a> "
   ]
  },
  {
   "cell_type": "code",
   "execution_count": 70,
   "metadata": {
    "scrolled": true
   },
   "outputs": [
    {
     "data": {
      "text/plain": [
       "XGBRegressor(base_score=0.5, booster=None, colsample_bylevel=1,\n",
       "       colsample_bynode=1, colsample_bytree=0.7, early_stopping_rounds=5,\n",
       "       gamma=0, gpu_id=-1, importance_type='gain',\n",
       "       interaction_constraints=None, learning_rate=0.300000012,\n",
       "       max_delta_step=0, max_depth=3, min_child_weight=1, missing=nan,\n",
       "       monotone_constraints=None, n_estimators=100, n_jobs=0,\n",
       "       num_parallel_tree=1, objective='reg:squarederror', random_state=42,\n",
       "       reg_alpha=0, reg_lambda=1, scale_pos_weight=1, subsample=1,\n",
       "       tree_method=None, validate_parameters=False, verbosity=None)"
      ]
     },
     "execution_count": 70,
     "metadata": {},
     "output_type": "execute_result"
    }
   ],
   "source": [
    "from xgboost import XGBRegressor\n",
    "\n",
    "xgb_regr = XGBRegressor(**grid_obj.best_params_)\n",
    "xgb_regr.fit(X,y)"
   ]
  },
  {
   "cell_type": "markdown",
   "metadata": {},
   "source": [
    "## <a id=7> Inferencing Pipeline"
   ]
  },
  {
   "cell_type": "markdown",
   "metadata": {},
   "source": [
    "### <a id = 71 > Load Data"
   ]
  },
  {
   "cell_type": "code",
   "execution_count": 71,
   "metadata": {},
   "outputs": [
    {
     "data": {
      "text/html": [
       "<div>\n",
       "<style scoped>\n",
       "    .dataframe tbody tr th:only-of-type {\n",
       "        vertical-align: middle;\n",
       "    }\n",
       "\n",
       "    .dataframe tbody tr th {\n",
       "        vertical-align: top;\n",
       "    }\n",
       "\n",
       "    .dataframe thead th {\n",
       "        text-align: right;\n",
       "    }\n",
       "</style>\n",
       "<table border=\"1\" class=\"dataframe\">\n",
       "  <thead>\n",
       "    <tr style=\"text-align: right;\">\n",
       "      <th></th>\n",
       "      <th>datetime</th>\n",
       "      <th>temperature</th>\n",
       "      <th>var1</th>\n",
       "      <th>pressure</th>\n",
       "      <th>windspeed</th>\n",
       "      <th>var2</th>\n",
       "    </tr>\n",
       "    <tr>\n",
       "      <th>ID</th>\n",
       "      <th></th>\n",
       "      <th></th>\n",
       "      <th></th>\n",
       "      <th></th>\n",
       "      <th></th>\n",
       "      <th></th>\n",
       "    </tr>\n",
       "  </thead>\n",
       "  <tbody>\n",
       "    <tr>\n",
       "      <th>22513</th>\n",
       "      <td>2016-01-25 01:00:00</td>\n",
       "      <td>13.6</td>\n",
       "      <td>10.7</td>\n",
       "      <td>976.0</td>\n",
       "      <td>3.555</td>\n",
       "      <td>A</td>\n",
       "    </tr>\n",
       "    <tr>\n",
       "      <th>8697</th>\n",
       "      <td>2014-06-28 09:00:00</td>\n",
       "      <td>-8.6</td>\n",
       "      <td>-12.1</td>\n",
       "      <td>1003.0</td>\n",
       "      <td>16.010</td>\n",
       "      <td>B</td>\n",
       "    </tr>\n",
       "    <tr>\n",
       "      <th>10814</th>\n",
       "      <td>2014-09-24 14:00:00</td>\n",
       "      <td>8.6</td>\n",
       "      <td>-7.1</td>\n",
       "      <td>980.0</td>\n",
       "      <td>4.380</td>\n",
       "      <td>A</td>\n",
       "    </tr>\n",
       "    <tr>\n",
       "      <th>15944</th>\n",
       "      <td>2015-04-26 08:00:00</td>\n",
       "      <td>5.7</td>\n",
       "      <td>3.6</td>\n",
       "      <td>983.0</td>\n",
       "      <td>5.005</td>\n",
       "      <td>A</td>\n",
       "    </tr>\n",
       "    <tr>\n",
       "      <th>18116</th>\n",
       "      <td>2015-07-25 20:00:00</td>\n",
       "      <td>-5.7</td>\n",
       "      <td>-18.6</td>\n",
       "      <td>995.0</td>\n",
       "      <td>7.060</td>\n",
       "      <td>A</td>\n",
       "    </tr>\n",
       "  </tbody>\n",
       "</table>\n",
       "</div>"
      ],
      "text/plain": [
       "                  datetime  temperature  var1  pressure  windspeed var2\n",
       "ID                                                                     \n",
       "22513  2016-01-25 01:00:00         13.6  10.7     976.0      3.555    A\n",
       "8697   2014-06-28 09:00:00         -8.6 -12.1    1003.0     16.010    B\n",
       "10814  2014-09-24 14:00:00          8.6  -7.1     980.0      4.380    A\n",
       "15944  2015-04-26 08:00:00          5.7   3.6     983.0      5.005    A\n",
       "18116  2015-07-25 20:00:00         -5.7 -18.6     995.0      7.060    A"
      ]
     },
     "execution_count": 71,
     "metadata": {},
     "output_type": "execute_result"
    }
   ],
   "source": [
    "test_df = pd.read_csv('input/' + test_file_name, index_col='ID')\n",
    "test_df.sample(5)"
   ]
  },
  {
   "cell_type": "code",
   "execution_count": 72,
   "metadata": {},
   "outputs": [
    {
     "data": {
      "text/plain": [
       "8568"
      ]
     },
     "execution_count": 72,
     "metadata": {},
     "output_type": "execute_result"
    }
   ],
   "source": [
    "len(test_df)"
   ]
  },
  {
   "cell_type": "markdown",
   "metadata": {},
   "source": [
    "### <a id = 72 > Recreate Pipeline"
   ]
  },
  {
   "cell_type": "code",
   "execution_count": 73,
   "metadata": {},
   "outputs": [
    {
     "data": {
      "text/html": [
       "<div>\n",
       "<style scoped>\n",
       "    .dataframe tbody tr th:only-of-type {\n",
       "        vertical-align: middle;\n",
       "    }\n",
       "\n",
       "    .dataframe tbody tr th {\n",
       "        vertical-align: top;\n",
       "    }\n",
       "\n",
       "    .dataframe thead th {\n",
       "        text-align: right;\n",
       "    }\n",
       "</style>\n",
       "<table border=\"1\" class=\"dataframe\">\n",
       "  <thead>\n",
       "    <tr style=\"text-align: right;\">\n",
       "      <th></th>\n",
       "      <th>temperature</th>\n",
       "      <th>var1</th>\n",
       "      <th>pressure</th>\n",
       "      <th>windspeed</th>\n",
       "      <th>var2</th>\n",
       "      <th>hour</th>\n",
       "      <th>dayofweek</th>\n",
       "      <th>dayofyear</th>\n",
       "      <th>weekofyear</th>\n",
       "      <th>quarter</th>\n",
       "      <th>month</th>\n",
       "      <th>year</th>\n",
       "      <th>binned_hour</th>\n",
       "      <th>binned_week</th>\n",
       "    </tr>\n",
       "    <tr>\n",
       "      <th>ID</th>\n",
       "      <th></th>\n",
       "      <th></th>\n",
       "      <th></th>\n",
       "      <th></th>\n",
       "      <th></th>\n",
       "      <th></th>\n",
       "      <th></th>\n",
       "      <th></th>\n",
       "      <th></th>\n",
       "      <th></th>\n",
       "      <th></th>\n",
       "      <th></th>\n",
       "      <th></th>\n",
       "      <th></th>\n",
       "    </tr>\n",
       "  </thead>\n",
       "  <tbody>\n",
       "    <tr>\n",
       "      <th>552</th>\n",
       "      <td>-10.0</td>\n",
       "      <td>-16.4</td>\n",
       "      <td>1011.0</td>\n",
       "      <td>263.280</td>\n",
       "      <td>0</td>\n",
       "      <td>0</td>\n",
       "      <td>2</td>\n",
       "      <td>205</td>\n",
       "      <td>30</td>\n",
       "      <td>3</td>\n",
       "      <td>7</td>\n",
       "      <td>2013</td>\n",
       "      <td>0</td>\n",
       "      <td>0</td>\n",
       "    </tr>\n",
       "    <tr>\n",
       "      <th>553</th>\n",
       "      <td>-10.0</td>\n",
       "      <td>-20.7</td>\n",
       "      <td>1011.0</td>\n",
       "      <td>267.175</td>\n",
       "      <td>0</td>\n",
       "      <td>1</td>\n",
       "      <td>2</td>\n",
       "      <td>205</td>\n",
       "      <td>30</td>\n",
       "      <td>3</td>\n",
       "      <td>7</td>\n",
       "      <td>2013</td>\n",
       "      <td>0</td>\n",
       "      <td>0</td>\n",
       "    </tr>\n",
       "    <tr>\n",
       "      <th>554</th>\n",
       "      <td>-10.7</td>\n",
       "      <td>-17.1</td>\n",
       "      <td>1003.0</td>\n",
       "      <td>269.555</td>\n",
       "      <td>0</td>\n",
       "      <td>2</td>\n",
       "      <td>2</td>\n",
       "      <td>205</td>\n",
       "      <td>30</td>\n",
       "      <td>3</td>\n",
       "      <td>7</td>\n",
       "      <td>2013</td>\n",
       "      <td>0</td>\n",
       "      <td>0</td>\n",
       "    </tr>\n",
       "    <tr>\n",
       "      <th>555</th>\n",
       "      <td>-13.6</td>\n",
       "      <td>-20.7</td>\n",
       "      <td>1008.0</td>\n",
       "      <td>273.060</td>\n",
       "      <td>0</td>\n",
       "      <td>3</td>\n",
       "      <td>2</td>\n",
       "      <td>205</td>\n",
       "      <td>30</td>\n",
       "      <td>3</td>\n",
       "      <td>7</td>\n",
       "      <td>2013</td>\n",
       "      <td>0</td>\n",
       "      <td>0</td>\n",
       "    </tr>\n",
       "    <tr>\n",
       "      <th>556</th>\n",
       "      <td>-10.7</td>\n",
       "      <td>-17.1</td>\n",
       "      <td>1006.0</td>\n",
       "      <td>1.765</td>\n",
       "      <td>0</td>\n",
       "      <td>4</td>\n",
       "      <td>2</td>\n",
       "      <td>205</td>\n",
       "      <td>30</td>\n",
       "      <td>3</td>\n",
       "      <td>7</td>\n",
       "      <td>2013</td>\n",
       "      <td>0</td>\n",
       "      <td>0</td>\n",
       "    </tr>\n",
       "  </tbody>\n",
       "</table>\n",
       "</div>"
      ],
      "text/plain": [
       "     temperature  var1  pressure  windspeed  var2  hour  dayofweek  dayofyear  \\\n",
       "ID                                                                              \n",
       "552        -10.0 -16.4    1011.0    263.280     0     0          2        205   \n",
       "553        -10.0 -20.7    1011.0    267.175     0     1          2        205   \n",
       "554        -10.7 -17.1    1003.0    269.555     0     2          2        205   \n",
       "555        -13.6 -20.7    1008.0    273.060     0     3          2        205   \n",
       "556        -10.7 -17.1    1006.0      1.765     0     4          2        205   \n",
       "\n",
       "     weekofyear  quarter  month  year  binned_hour  binned_week  \n",
       "ID                                                               \n",
       "552          30        3      7  2013            0            0  \n",
       "553          30        3      7  2013            0            0  \n",
       "554          30        3      7  2013            0            0  \n",
       "555          30        3      7  2013            0            0  \n",
       "556          30        3      7  2013            0            0  "
      ]
     },
     "execution_count": 73,
     "metadata": {},
     "output_type": "execute_result"
    }
   ],
   "source": [
    "# I am not going to sort now because if I am not careful, then I will mess up the ID orders\n",
    "# Label encoding of var2\n",
    "from sklearn.preprocessing import LabelEncoder\n",
    "label_encoder = LabelEncoder()\n",
    "\n",
    "test_df['var2'] = label_encoder.fit_transform(test_df['var2'])\n",
    "\n",
    "# Convert the column into datetime \n",
    "test_df['datetime'] = pd.to_datetime(test_df['datetime'])\n",
    "\n",
    "# feature engineering\n",
    "# Use the datetime column to generate additional categorical features\n",
    "test_df, _ = time_feature_engineering_function(test_df, time_column='datetime')\n",
    "\n",
    "# Introduce hour of day segment\n",
    "test_df['binned_hour'] = test_df['hour'].map(hour_bin_map_dict)\n",
    "\n",
    "test_df['binned_week'] = test_df['dayofweek'].map(week_bin_map_dict)\n",
    "\n",
    "# # Bin the temperatures \n",
    "# test_df['temp_range'] = pd.cut(test_df['temperature'], temp_bins, labels=temp_bin_names)\n",
    "# test_df['temp_range'] = test_df['temp_range'].astype('int32')\n",
    "\n",
    "# del test_df['temperature']\n",
    "# delete day of month because its not present in the training data\n",
    "del test_df['dayofmonth']\n",
    "# Delete the datetime column\n",
    "del test_df['datetime']\n",
    "\n",
    "test_df.head()"
   ]
  },
  {
   "cell_type": "markdown",
   "metadata": {},
   "source": [
    "### <a id = 74 > Test Predictions"
   ]
  },
  {
   "cell_type": "code",
   "execution_count": 74,
   "metadata": {},
   "outputs": [],
   "source": [
    "preds_list = xgb_regr.predict(test_df)"
   ]
  },
  {
   "cell_type": "markdown",
   "metadata": {},
   "source": [
    "### Create Submission File"
   ]
  },
  {
   "cell_type": "code",
   "execution_count": 75,
   "metadata": {},
   "outputs": [
    {
     "data": {
      "text/html": [
       "<div>\n",
       "<style scoped>\n",
       "    .dataframe tbody tr th:only-of-type {\n",
       "        vertical-align: middle;\n",
       "    }\n",
       "\n",
       "    .dataframe tbody tr th {\n",
       "        vertical-align: top;\n",
       "    }\n",
       "\n",
       "    .dataframe thead th {\n",
       "        text-align: right;\n",
       "    }\n",
       "</style>\n",
       "<table border=\"1\" class=\"dataframe\">\n",
       "  <thead>\n",
       "    <tr style=\"text-align: right;\">\n",
       "      <th></th>\n",
       "      <th>electricity_consumption</th>\n",
       "    </tr>\n",
       "    <tr>\n",
       "      <th>ID</th>\n",
       "      <th></th>\n",
       "    </tr>\n",
       "  </thead>\n",
       "  <tbody>\n",
       "    <tr>\n",
       "      <th>552</th>\n",
       "      <td>0</td>\n",
       "    </tr>\n",
       "    <tr>\n",
       "      <th>553</th>\n",
       "      <td>0</td>\n",
       "    </tr>\n",
       "    <tr>\n",
       "      <th>554</th>\n",
       "      <td>0</td>\n",
       "    </tr>\n",
       "    <tr>\n",
       "      <th>555</th>\n",
       "      <td>0</td>\n",
       "    </tr>\n",
       "    <tr>\n",
       "      <th>556</th>\n",
       "      <td>0</td>\n",
       "    </tr>\n",
       "  </tbody>\n",
       "</table>\n",
       "</div>"
      ],
      "text/plain": [
       "     electricity_consumption\n",
       "ID                          \n",
       "552                        0\n",
       "553                        0\n",
       "554                        0\n",
       "555                        0\n",
       "556                        0"
      ]
     },
     "execution_count": 75,
     "metadata": {},
     "output_type": "execute_result"
    }
   ],
   "source": [
    "sample_df = pd.read_csv('input/' + sample_submission_file_name, index_col='ID')\n",
    "sample_df.head()"
   ]
  },
  {
   "cell_type": "code",
   "execution_count": null,
   "metadata": {},
   "outputs": [],
   "source": []
  },
  {
   "cell_type": "code",
   "execution_count": 76,
   "metadata": {},
   "outputs": [],
   "source": [
    "# Overwrite the sample submission file (assuming that the ID order is the same)\n",
    "# list(test_df.index) == list(sample_df.index)\n",
    "submission_df = sample_df.copy()\n",
    "submission_df['electricity_consumption'] = preds_list\n",
    "submission_df.to_csv('xgbreg_tunedw_hrwkndbins_sub19.csv',index=True)"
   ]
  },
  {
   "cell_type": "code",
   "execution_count": null,
   "metadata": {},
   "outputs": [],
   "source": [
    "# Binning by temperature gave no improvement even after several attempts"
   ]
  },
  {
   "cell_type": "code",
   "execution_count": 3,
   "metadata": {},
   "outputs": [],
   "source": [
    "# Removing the outliers above 800 for the energy consumption gave worse score (83)"
   ]
  },
  {
   "cell_type": "code",
   "execution_count": 4,
   "metadata": {},
   "outputs": [],
   "source": [
    "# Both Temperature & energy consumption have strong seasonality but binning by month doesnt work"
   ]
  },
  {
   "cell_type": "code",
   "execution_count": null,
   "metadata": {},
   "outputs": [],
   "source": [
    "# Single tuned model with engineered weekend gives 81"
   ]
  },
  {
   "cell_type": "code",
   "execution_count": null,
   "metadata": {},
   "outputs": [],
   "source": [
    "# Single model tuned after removing dayofmonth gives 83"
   ]
  },
  {
   "cell_type": "code",
   "execution_count": null,
   "metadata": {},
   "outputs": [],
   "source": [
    "# Single model with holidays, cross term gives 106"
   ]
  },
  {
   "cell_type": "code",
   "execution_count": null,
   "metadata": {},
   "outputs": [],
   "source": [
    "# Multimodels all give around 107"
   ]
  },
  {
   "cell_type": "code",
   "execution_count": 47,
   "metadata": {},
   "outputs": [],
   "source": [
    "# XGboost gave 95 RMSE which is about halfway up the leaderboard"
   ]
  },
  {
   "cell_type": "code",
   "execution_count": null,
   "metadata": {},
   "outputs": [],
   "source": [
    "# Median baseline gave 131 RMSE on leaderboard"
   ]
  }
 ],
 "metadata": {
  "kernelspec": {
   "display_name": "conda_python3",
   "language": "python",
   "name": "conda_python3"
  },
  "language_info": {
   "codemirror_mode": {
    "name": "ipython",
    "version": 3
   },
   "file_extension": ".py",
   "mimetype": "text/x-python",
   "name": "python",
   "nbconvert_exporter": "python",
   "pygments_lexer": "ipython3",
   "version": "3.6.5"
  }
 },
 "nbformat": 4,
 "nbformat_minor": 2
}
